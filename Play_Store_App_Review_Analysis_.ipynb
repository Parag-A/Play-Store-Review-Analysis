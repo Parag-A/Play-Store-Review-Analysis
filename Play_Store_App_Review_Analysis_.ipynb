{
  "nbformat": 4,
  "nbformat_minor": 0,
  "metadata": {
    "colab": {
      "private_outputs": true,
      "provenance": [],
      "collapsed_sections": [
        "mDgbUHAGgjLW",
        "3RnN4peoiCZX",
        "x71ZqKXriCWQ",
        "7hBIi_osiCS2",
        "bKJF3rekwFvQ",
        "tBOtfefDLGef",
        "GrBfzxUrNvnF",
        "xqq64sDFtFVJ",
        "pv2HmQ8JtdU-",
        "3ZG0vmtOu7_y",
        "OK_jYnLswOS-",
        "kBjMyI0dzffP",
        "uz7pRf40iJ9M",
        "GF8Ens_Soomf",
        "GIMN7TKM7DWr",
        "x7vPKfS71sOx",
        "V69N1dPg2a0A",
        "6EQKCtkW3Epf",
        "strDC_QH3fSz",
        "BZ01Pj4G4hHb",
        "R-0YAY6J8NdI",
        "ETw-R6kU8x7E",
        "pmZb2Ubl-Y-j",
        "K950CbMv-uod",
        "SspCSwfU_lJq",
        "AWk7MMgWA9V7",
        "Cdco5QHXRYR0",
        "6h5WUhRkRhtt",
        "nB8O_idFRnuJ",
        "riC64_Q3S-9l",
        "JU2HL5MPTGh5",
        "SMYQhUroVKpK",
        "xVRhi4I6VM_-",
        "piCN0L4KVRHL",
        "XAjIqvy8VYKt",
        "xzTmrYQzVehV",
        "J8JT01tdVoip"
      ],
      "include_colab_link": true
    },
    "kernelspec": {
      "name": "python3",
      "display_name": "Python 3"
    },
    "language_info": {
      "name": "python"
    }
  },
  "cells": [
    {
      "cell_type": "markdown",
      "metadata": {
        "id": "view-in-github",
        "colab_type": "text"
      },
      "source": [
        "<a href=\"https://colab.research.google.com/github/Parag-A/Play-Store-Review-Analysis/blob/main/Play_Store_App_Review_Analysis_.ipynb\" target=\"_parent\"><img src=\"https://colab.research.google.com/assets/colab-badge.svg\" alt=\"Open In Colab\"/></a>"
      ]
    },
    {
      "cell_type": "markdown",
      "source": [
        "# **Project Name**    - Play Store App Review Analysis\n",
        "\n"
      ],
      "metadata": {
        "id": "vncDsAP0Gaoa"
      }
    },
    {
      "cell_type": "markdown",
      "source": [
        "##### **Project Type**    - EDA\n",
        "##### **Contribution**    - Individual\n",
        "##### **Team Member 1 - Parag Agrawal**\n"
      ],
      "metadata": {
        "id": "beRrZCGUAJYm"
      }
    },
    {
      "cell_type": "markdown",
      "source": [
        "# **Project Summary -**"
      ],
      "metadata": {
        "id": "FJNUwmbgGyua"
      }
    },
    {
      "cell_type": "markdown",
      "source": [
        "### **📱 Hi everybody !**\n",
        "\n",
        "In this notebook, I'm gonna analyze Google Play Store datas. While I was analyzing the data, I used Python. This study is my first data analyzing study.\n",
        "\n",
        "Google Play Store apps and reviews Mobile apps are everywhere. They are easy to create and can be lucrative. Because of these two factors, more and more apps are being developed. In this notebook, we will do a comprehensive analysis of the Android app market by comparing over ten thousand apps in Google Play across different categories. We'll look for insights in the data to devise strategies to drive growth and retention.\n",
        "\n",
        "Let's take a look at the data, which consists of two files:\n",
        "\n",
        "* **playstore data.csv:** contains all the details of the applications on Google Play. There are 13 features that describe a given app.\n",
        "* **user_reviews.csv:** contains 100 reviews for each app, most helpful first. The text in each review has been pre-processed and attributed with three new features: Sentiment (Positive, Negative or Neutral), Sentiment Polarity and Sentiment Subjectivity.\n"
      ],
      "metadata": {
        "id": "F6v_1wHtG2nS"
      }
    },
    {
      "cell_type": "markdown",
      "source": [
        "# **Problem Statement**\n"
      ],
      "metadata": {
        "id": "yQaldy8SH6Dl"
      }
    },
    {
      "cell_type": "markdown",
      "source": [
        "\n",
        "1. What are the top categories on Play Store?\n",
        "2. Are majority of the apps Paid or Free?\n",
        "3. How importance is the rating of the application?\n",
        "4. Which categories from the audience should the app be based on?\n",
        "5. Which category has the most no. of installations?\n",
        "6. How does the count of apps varies by Genres?\n",
        "7. How does the last update has an effect on the rating?\n",
        "8. How are ratings affected when the app is a paid one?\n",
        "9. How are reviews and ratings co-related?\n",
        "10. Lets us discuss the sentiment subjectivity.\n",
        "11. Is subjectivity and polarity proportional to each other?\n",
        "12. What is the percentage of review sentiments?\n",
        "13. How is sentiment polarity varying for paid and free apps?\n",
        "14. How Content Rating affect over the App?\n",
        "15. Does Last Update date has an effects on rating?\n",
        "16. Distribution of App update over the Year.\n",
        "17. Distribution of Paid and Free app updated over the Month."
      ],
      "metadata": {
        "id": "DpeJGUA3kjGy"
      }
    },
    {
      "cell_type": "markdown",
      "source": [
        "# **General Guidelines** : -  "
      ],
      "metadata": {
        "id": "mDgbUHAGgjLW"
      }
    },
    {
      "cell_type": "markdown",
      "source": [
        "1.   Well-structured, formatted, and commented code is required.\n",
        "2.   Exception Handling, Production Grade Code & Deployment Ready Code will be a plus. Those students will be awarded some additional credits.\n",
        "     \n",
        "     The additional credits will have advantages over other students during Star Student selection.\n",
        "       \n",
        "             [ Note: - Deployment Ready Code is defined as, the whole .ipynb notebook should be executable in one go\n",
        "                       without a single error logged. ]\n",
        "\n",
        "3.   Each and every logic should have proper comments.\n",
        "4. You may add as many number of charts you want. Make Sure for each and every chart the following format should be answered.\n",
        "        \n",
        "\n",
        "```\n",
        "# Chart visualization code\n",
        "```\n",
        "            \n",
        "\n",
        "*   Why did you pick the specific chart?\n",
        "*   What is/are the insight(s) found from the chart?\n",
        "* Will the gained insights help creating a positive business impact?\n",
        "Are there any insights that lead to negative growth? Justify with specific reason.\n",
        "\n",
        "5. You have to create at least 20 logical & meaningful charts having important insights.\n",
        "\n",
        "\n",
        "[ Hints : - Do the Vizualization in  a structured way while following \"UBM\" Rule.\n",
        "\n",
        "U - Univariate Analysis,\n",
        "\n",
        "B - Bivariate Analysis (Numerical - Categorical, Numerical - Numerical, Categorical - Categorical)\n",
        "\n",
        "M - Multivariate Analysis\n",
        " ]\n",
        "\n",
        "\n",
        "\n"
      ],
      "metadata": {
        "id": "ZrxVaUj-hHfC"
      }
    },
    {
      "cell_type": "markdown",
      "source": [
        "# ***Let's Begin !***"
      ],
      "metadata": {
        "id": "O_i_v8NEhb9l"
      }
    },
    {
      "cell_type": "markdown",
      "source": [
        "## ***1. Know Your Data***"
      ],
      "metadata": {
        "id": "HhfV-JJviCcP"
      }
    },
    {
      "cell_type": "markdown",
      "source": [
        "### Import Libraries"
      ],
      "metadata": {
        "id": "Y3lxredqlCYt"
      }
    },
    {
      "cell_type": "code",
      "source": [
        "#Connect the Colab with Google Drive\n",
        "from google.colab import drive\n",
        "drive.mount('/content/drive')"
      ],
      "metadata": {
        "id": "JVXCDAbynN_S"
      },
      "execution_count": null,
      "outputs": []
    },
    {
      "cell_type": "code",
      "source": [
        "# Import Libraries\n",
        "import pandas as pd\n",
        "import numpy as np\n",
        "import matplotlib.pyplot as plt\n",
        "import seaborn as sns\n",
        "from datetime import datetime\n",
        "# plotly\n",
        "import plotly\n",
        "plotly.offline.init_notebook_mode(connected=True)\n",
        "import plotly.graph_objs as go\n",
        "import warnings\n",
        "#sns.set(font_scale=1.5)\n",
        "warnings.filterwarnings(\"ignore\")"
      ],
      "metadata": {
        "id": "M8Vqi-pPk-HR"
      },
      "execution_count": null,
      "outputs": []
    },
    {
      "cell_type": "markdown",
      "source": [
        "### Dataset Loading"
      ],
      "metadata": {
        "id": "3RnN4peoiCZX"
      }
    },
    {
      "cell_type": "code",
      "source": [
        "# Load Play Store Dataset\n",
        "Play_store_df = pd.read_csv('/content/drive/MyDrive/Almabetter/Project/Datasets/Play Store Data1.csv')\n",
        "Play_store_df"
      ],
      "metadata": {
        "id": "4CkvbW_SlZ_R"
      },
      "execution_count": null,
      "outputs": []
    },
    {
      "cell_type": "code",
      "source": [
        "# Load User Review Dataset\n",
        "User_Review_df = pd.read_csv('/content/drive/MyDrive/Almabetter/Project/Datasets/User Reviews1.csv')\n",
        "User_Review_df"
      ],
      "metadata": {
        "id": "0e6fg4enThsA"
      },
      "execution_count": null,
      "outputs": []
    },
    {
      "cell_type": "markdown",
      "source": [
        "### Dataset First View"
      ],
      "metadata": {
        "id": "x71ZqKXriCWQ"
      }
    },
    {
      "cell_type": "code",
      "source": [
        "# Play Store Dataset First Look\n",
        "Play_store_df.head()"
      ],
      "metadata": {
        "id": "LWNFOSvLl09H"
      },
      "execution_count": null,
      "outputs": []
    },
    {
      "cell_type": "markdown",
      "source": [
        "### Dataset Rows & Columns count"
      ],
      "metadata": {
        "id": "7hBIi_osiCS2"
      }
    },
    {
      "cell_type": "code",
      "source": [
        "# Play Store dataset Rows & Columns count\n",
        "Play_store_df.shape"
      ],
      "metadata": {
        "id": "Kllu7SJgmLij"
      },
      "execution_count": null,
      "outputs": []
    },
    {
      "cell_type": "markdown",
      "source": [
        "### Dataset Information"
      ],
      "metadata": {
        "id": "JlHwYmJAmNHm"
      }
    },
    {
      "cell_type": "code",
      "source": [
        "# Play Store Dataset Info\n",
        "Play_store_df.info()"
      ],
      "metadata": {
        "id": "e9hRXRi6meOf"
      },
      "execution_count": null,
      "outputs": []
    },
    {
      "cell_type": "markdown",
      "source": [
        "#### Missing Values/Null Values"
      ],
      "metadata": {
        "id": "PoPl-ycgm1ru"
      }
    },
    {
      "cell_type": "code",
      "source": [
        "# Missing Values/Null Values Count of Play store Datasets\n",
        "print(Play_store_df.isnull().sum())"
      ],
      "metadata": {
        "id": "GgHWkxvamxVg"
      },
      "execution_count": null,
      "outputs": []
    },
    {
      "cell_type": "code",
      "source": [
        "# Visualizing the missing values\n",
        "# We have already imported libraries with essentials as pd,np and sns\n",
        "\n",
        "#Calculate the count of missing values in each column\n",
        "missing_data = Play_store_df.isnull().sum()\n",
        "\n",
        "# Set Figure size for the plot\n",
        "plt.figure(figsize=(10,6))\n",
        "\n",
        "# Create a bar plot to visualize missing values\n",
        "plt.bar(missing_data.index, missing_data.values)\n",
        "\n",
        "# Set labels and title for the plot\n",
        "plt.xlabel('Columns')\n",
        "plt.ylabel('Missing Values Count')\n",
        "plt.title('Missing Values by Column')\n",
        "\n",
        "# Optionally, rotate x-axis labels for better readability\n",
        "plt.xticks(rotation=90)\n",
        "\n",
        "# Show the plot\n",
        "plt.show()"
      ],
      "metadata": {
        "id": "3q5wnI3om9sJ"
      },
      "execution_count": null,
      "outputs": []
    },
    {
      "cell_type": "code",
      "source": [
        "# Set the figure size for the heatmap\n",
        "plt.figure(figsize=(10, 6))\n",
        "\n",
        "# Create a heatmap to visualize missing values\n",
        "sns.heatmap(Play_store_df.isnull(), cbar=False, cmap='viridis')\n",
        "\n",
        "# Set a title for the heatmap\n",
        "plt.title('Missing Values Heatmap')\n",
        "\n",
        "# Show the plot\n",
        "plt.show()"
      ],
      "metadata": {
        "id": "vz5hnDUogGQo"
      },
      "execution_count": null,
      "outputs": []
    },
    {
      "cell_type": "markdown",
      "source": [
        "### What did you know about your dataset?"
      ],
      "metadata": {
        "id": "H0kj-8xxnORC"
      }
    },
    {
      "cell_type": "markdown",
      "source": [
        "Here's what we know about our datasets\n",
        "\n",
        "Let's first talk about our Play Store App Review dataset:\n",
        "\n",
        "\n",
        "1. The dataset contains 10,358 entries\n",
        "2. It includes data in float and object only.\n",
        "3. Their are 13 column in total which are App,Category, Rating, Reviews, Size, Installs, Type, Price, Content Rating, Genre, Last Updated, Currect Ver, Andriod Ver\n",
        "4. Some columns have missing values such as Rating, Current version and Andriod version but Rating has the most missing values\n",
        "5. There are no dublicate values anymore in tha dataset\n",
        "6. This dataset provide info on play store apps, their rating, downloads, versions, Category, Size, Installation number, Genre and more\n",
        "\n",
        "\n",
        "\n",
        "\n"
      ],
      "metadata": {
        "id": "gfoNAAC-nUe_"
      }
    },
    {
      "cell_type": "markdown",
      "source": [
        "## ***2. Understanding Your Variables***"
      ],
      "metadata": {
        "id": "nA9Y7ga8ng1Z"
      }
    },
    {
      "cell_type": "code",
      "source": [
        "# First Dataset Columns\n",
        "Play_store_df.columns"
      ],
      "metadata": {
        "id": "EuqYJqw8mbrj"
      },
      "execution_count": null,
      "outputs": []
    },
    {
      "cell_type": "code",
      "source": [
        "#  First Dataset Describe\n",
        "Play_store_df.describe()"
      ],
      "metadata": {
        "id": "aqGiu2uyvAIZ"
      },
      "execution_count": null,
      "outputs": []
    },
    {
      "cell_type": "markdown",
      "source": [
        "### Variables Description"
      ],
      "metadata": {
        "id": "PBTbrJXOngz2"
      }
    },
    {
      "cell_type": "markdown",
      "source": [
        "here is a description of the variables in the Play Store dataset:\n",
        "\n",
        "1. **App** - It tells us about the name of the application with a short description (optional).\n",
        "2. **Category** - It gives the category to the app.\n",
        "3. **Rating** - It contains the average rating the respective app received from its users.\n",
        "4. **Reviews** - It tells us about the total number of users who have given a review for the application.\n",
        "5. **Size** - It tells us about the size being occupied the application on the mobile phone.\n",
        "6. **Installs** - It tells us about the total number of installs/downloads for an application.\n",
        "7. **Type** - It states whether an app is free to use or paid.\n",
        "8. **Price** - It gives the price payable to install the app. For free type apps, the price is zero.\n",
        "9. **Content Rating** - It states whether or not an app is suitable for all age groups or not.\n",
        "10. **Genres** - It tells us about the various other categories to which an application can belong.\n",
        "11. **Last Updated** - It tells us about, when the application was last time updated.\n",
        "12. **Current Ver** - It tells us about the current version of the application.\n",
        "13.**Android Ver** - It tells us about the android version which can support the application on its platform."
      ],
      "metadata": {
        "id": "aJV4KIxSnxay"
      }
    },
    {
      "cell_type": "markdown",
      "source": [
        "## **Cleaning of the data**\n",
        "\n",
        "The three features that we will be working with most frequently henceforth are Installs, Size, and Price. A careful glance of the dataset reveals that some of these columns mandate data cleaning in order to be consumed by code we'll write later. Specifically, the presence of special characters (, $ +) and letters (M k) in the Installs, Size, and Price columns make their conversion to a numerical data type difficult. Let's clean by removing these and converting each column to a numeric type.\n",
        "\n",
        "\n",
        "\n",
        "Removing the Nan value"
      ],
      "metadata": {
        "id": "01uE3swVk6AO"
      }
    },
    {
      "cell_type": "markdown",
      "source": [
        " **Handling the NaN values in the Play store data and Check the Unique values for each variable**"
      ],
      "metadata": {
        "id": "pms0YKTylIQX"
      }
    },
    {
      "cell_type": "code",
      "source": [
        "# This user define function will give the type,count of null and non null values as well as null ratio\n",
        "def playstoreinfo():\n",
        "  temp=pd.DataFrame(index=Play_store_df.columns)\n",
        "  temp[\"datatype\"]=Play_store_df.dtypes\n",
        "  temp[\"not null values\"]=Play_store_df.count()\n",
        "  temp[\"null value\"]=Play_store_df.isnull().sum()\n",
        "  temp[\"% of the null value\"]=Play_store_df.isnull().mean()\n",
        "  temp[\"unique count\"]=Play_store_df.nunique()\n",
        "  return temp\n",
        "playstoreinfo()"
      ],
      "metadata": {
        "id": "PvqxrFGylM8A"
      },
      "execution_count": null,
      "outputs": []
    },
    {
      "cell_type": "markdown",
      "source": [
        "**Findings**\n",
        "\n",
        "`The number of null values are:`\n",
        "\n",
        "Rating has 1465 null values which contributes 14.14% of the data.\n",
        "Type has 1 null value which contributes 0.001% of the data.\n",
        "Content_Rating has 1 null value which contributes 0.001% of the data.\n",
        "Current_Ver has 8 null values which contributes 0.07% of the data.\n",
        "Android_Ver has 3 null values which contributes 0.03% of the data."
      ],
      "metadata": {
        "id": "yjs-_21nmCHD"
      }
    },
    {
      "cell_type": "markdown",
      "source": [
        "## 3. ***Data Wrangling***"
      ],
      "metadata": {
        "id": "dauF4eBmngu3"
      }
    },
    {
      "cell_type": "markdown",
      "source": [
        "### Data Wrangling Code"
      ],
      "metadata": {
        "id": "bKJF3rekwFvQ"
      }
    },
    {
      "cell_type": "markdown",
      "source": [
        "### What all manipulations have you done and insights you found?"
      ],
      "metadata": {
        "id": "Vh0CKhB6oOff"
      }
    },
    {
      "cell_type": "markdown",
      "source": [
        "Lets first deal with the columns which contains lesser number of NaN values. By going through the NaN values, we must come up with a way to replace them with non NaN values or we need to come up with a reason for having NaN.\n",
        "\n",
        "### **`1). Android Ver: There are a total of 3 NaN values in this column.`**\n",
        "\n",
        "---\n",
        "\n"
      ],
      "metadata": {
        "id": "rm7TNN_inyaF"
      }
    },
    {
      "cell_type": "code",
      "source": [
        "# The rows containing NaN values in the Android Ver column\n",
        "Play_store_df[Play_store_df[\"Android Ver\"].isnull()]"
      ],
      "metadata": {
        "id": "wk-9a2fpoLcV"
      },
      "execution_count": null,
      "outputs": []
    },
    {
      "cell_type": "code",
      "source": [
        "# Finding the different values the 'Android Ver' column takes\n",
        "Play_store_df[\"Android Ver\"].value_counts()"
      ],
      "metadata": {
        "id": "510PRUb7oUlY"
      },
      "execution_count": null,
      "outputs": []
    },
    {
      "cell_type": "markdown",
      "source": [
        "Since the NaN values in the Android Ver column cannot be replaced by any particular value, and, since there are only 3 rows which contain NaN values in this column, which accounts to less than 0.03% of the total rows in the given dataset, it can be be dropped."
      ],
      "metadata": {
        "id": "-xlEJGJYoS0W"
      }
    },
    {
      "cell_type": "code",
      "source": [
        "# dropping rows corresponding to the to the NaN values in the 'Android Ver' column.\n",
        "Play_store_df=Play_store_df[Play_store_df['Android Ver'].notna()]\n",
        "# Shape of the updated dataframe\n",
        "Play_store_df.shape"
      ],
      "metadata": {
        "id": "5E5NTjKTo2VA"
      },
      "execution_count": null,
      "outputs": []
    },
    {
      "cell_type": "markdown",
      "source": [
        "We were successfully able to handle the NaN values in the` Android Ver `column."
      ],
      "metadata": {
        "id": "42lkrepApDMG"
      }
    },
    {
      "cell_type": "markdown",
      "source": [
        "### **`2). Current Ver: There are a total of 8 NaN values in this column.`**"
      ],
      "metadata": {
        "id": "LyZOuBf4pH6w"
      }
    },
    {
      "cell_type": "code",
      "source": [
        "# The rows containing NaN values in the Current Ver column\n",
        "Play_store_df[Play_store_df[\"Current Ver\"].isnull()]"
      ],
      "metadata": {
        "id": "L2v518GCpJpP"
      },
      "execution_count": null,
      "outputs": []
    },
    {
      "cell_type": "code",
      "source": [
        "# Finding the different values the 'Current Ver' column takes\n",
        "Play_store_df['Current Ver'].value_counts()"
      ],
      "metadata": {
        "id": "-GVj4mD0pP2u"
      },
      "execution_count": null,
      "outputs": []
    },
    {
      "cell_type": "markdown",
      "source": [
        "Since there are only 8 rows which contain NaN values in the Current Ver column, and it accounts to just around 0.07% of the total rows in the given dataset, and there is no particular value with which we can replace it, these rows can be dropped."
      ],
      "metadata": {
        "id": "1g6pUoZ5pZYu"
      }
    },
    {
      "cell_type": "code",
      "source": [
        "# dropping rows corresponding to the values which contain NaN in the column 'Current Ver'.\n",
        "Play_store_df=Play_store_df[Play_store_df[\"Current Ver\"].notna()]\n",
        "# Shape of the updated dataframe\n",
        "Play_store_df.shape"
      ],
      "metadata": {
        "id": "_4vB7mj_peyn"
      },
      "execution_count": null,
      "outputs": []
    },
    {
      "cell_type": "markdown",
      "source": [
        "### **`3). Type: There is only one NaN value in this column.`**"
      ],
      "metadata": {
        "id": "ANCEMJDwplTl"
      }
    },
    {
      "cell_type": "code",
      "source": [
        "# The row containing NaN values in the Type column\n",
        "Play_store_df[Play_store_df[\"Type\"].isnull()]"
      ],
      "metadata": {
        "id": "n5sOI0i7ppXc"
      },
      "execution_count": null,
      "outputs": []
    },
    {
      "cell_type": "code",
      "source": [
        "# Finding the different values the 'Type' column takes\n",
        "Play_store_df[\"Type\"].value_counts()"
      ],
      "metadata": {
        "id": "GZAbZMl0ptNw"
      },
      "execution_count": null,
      "outputs": []
    },
    {
      "cell_type": "markdown",
      "source": [
        "The `Type `column contains only two entries, namely, `Free` and `Paid`. Also, if the app is of `type-paid`, the price of that app will be printed in the corresponding `Price` column, else, it will show as '0'. In this case, the price for the respective app is printed as '0', which means the app is of type-free. Hence we can replace this NaN value with Free."
      ],
      "metadata": {
        "id": "Cxl_aE0ApxGG"
      }
    },
    {
      "cell_type": "code",
      "source": [
        "# Replacing the NaN value in 'Type' column corresponding to row index 9148 with 'Free'\n",
        "Play_store_df.loc[9148,'Type']='Free'"
      ],
      "metadata": {
        "id": "1MEvAZmJp_tO"
      },
      "execution_count": null,
      "outputs": []
    },
    {
      "cell_type": "code",
      "source": [
        "Play_store_df[Play_store_df[\"Type\"].isnull()]"
      ],
      "metadata": {
        "id": "qPrJyPuuqHrS"
      },
      "execution_count": null,
      "outputs": []
    },
    {
      "cell_type": "markdown",
      "source": [
        "### **`4). Rating: This column contains 1461 NaN values.`**"
      ],
      "metadata": {
        "id": "3LJTz7NoqRys"
      }
    },
    {
      "cell_type": "code",
      "source": [
        "# The rows containing NaN values in the Rating column\n",
        "Play_store_df[Play_store_df['Rating'].isnull()]"
      ],
      "metadata": {
        "id": "QsnP-hHnqTRH"
      },
      "execution_count": null,
      "outputs": []
    },
    {
      "cell_type": "markdown",
      "source": [
        "We know that the rating of any app in the play store will be in between 1 and 5. Lets check whether there are any ratings out of this range."
      ],
      "metadata": {
        "id": "CXqQ3WmTqc02"
      }
    },
    {
      "cell_type": "code",
      "source": [
        "Play_store_df[(Play_store_df['Rating'] <1) | (Play_store_df['Rating']>5)]"
      ],
      "metadata": {
        "id": "JoB8J8Nnqgpg"
      },
      "execution_count": null,
      "outputs": []
    },
    {
      "cell_type": "markdown",
      "source": [
        "* The `Rating` column contains 1461 NaN values which accounts to approximately 14.14% of the rows in the entire dataset. It is not practical to drop these rows because by doing so, we will loose a large amount of data, which may impact the final quality of the analysis.\n",
        "* The NaN values in this case can be imputed by the aggregate (mean or median) of the remaining values in the Rating column."
      ],
      "metadata": {
        "id": "snQyxIvkqny-"
      }
    },
    {
      "cell_type": "code",
      "source": [
        "# Finding mean and median in the Rating column excluding the NaN values.\n",
        "\n",
        "mean_rating = round(Play_store_df[~Play_store_df['Rating'].isnull()]['Rating'].mean(),4)\n",
        "\n",
        "median_rating = Play_store_df[~Play_store_df['Rating'].isnull()]['Rating'].median()\n",
        "\n",
        "[mean_rating , median_rating]"
      ],
      "metadata": {
        "id": "lIws_I5arNqv"
      },
      "execution_count": null,
      "outputs": []
    },
    {
      "cell_type": "markdown",
      "source": [
        "**Visualization of distribution of rating using displot and detecting the outliers through boxplot.**"
      ],
      "metadata": {
        "id": "wGfIraDXrdyJ"
      }
    },
    {
      "cell_type": "code",
      "source": [
        "fig, ax = plt.subplots(2,1, figsize=(12,7))\n",
        "sns.distplot(Play_store_df['Rating'],color='firebrick',ax=ax[0])\n",
        "sns.boxplot(x='Rating',data=Play_store_df, ax=ax[1])"
      ],
      "metadata": {
        "id": "VeTjzC-Crsv2"
      },
      "execution_count": null,
      "outputs": []
    },
    {
      "cell_type": "markdown",
      "source": [
        "* The mean of the average ratings (excluding the NaN values) comes to be 4.2.\n",
        "\n",
        "* The median of the entries (excluding the NaN values) in the 'Rating' column comes to be 4.3. From this we can say that 50% of the apps have an average rating of above 4.3, and the rest below 4.3.\n",
        "* From the distplot visualizations, it is clear that the ratings are left skewed.\n",
        "* We know that if the variable is skewed, the mean is biased by the values at the far end of the distribution. Therefore, the median is a better representation of the majority of the values in the variable.\n",
        "* Hence we will input the NaN values in the Rating column with its median."
      ],
      "metadata": {
        "id": "uIVZFe5bsXyS"
      }
    },
    {
      "cell_type": "code",
      "source": [
        "# Replacing the NaN values in the 'Rating' colunm with its median value\n",
        "Play_store_df['Rating'].fillna(value=median_rating,inplace=True)"
      ],
      "metadata": {
        "id": "Exs9ExCLssIZ"
      },
      "execution_count": null,
      "outputs": []
    },
    {
      "cell_type": "markdown",
      "source": [
        "# **Handling duplicates values and Manipulating dataset:**\n"
      ],
      "metadata": {
        "id": "tBOtfefDLGef"
      }
    },
    {
      "cell_type": "markdown",
      "source": [
        "### **`1).Handling the duplicates in the  `App `column`**"
      ],
      "metadata": {
        "id": "GrBfzxUrNvnF"
      }
    },
    {
      "cell_type": "code",
      "source": [
        "# Handling the error values in the Play store data\n",
        "Play_store_df.head()"
      ],
      "metadata": {
        "id": "cxPfhXijLI88"
      },
      "execution_count": null,
      "outputs": []
    },
    {
      "cell_type": "code",
      "source": [
        "Play_store_df['App'].value_counts()"
      ],
      "metadata": {
        "id": "PyAzH2j4LLJx"
      },
      "execution_count": null,
      "outputs": []
    },
    {
      "cell_type": "code",
      "source": [
        "# Inspecting the duplicates values.\n",
        "Play_store_df[Play_store_df['App']=='ROBLOX']"
      ],
      "metadata": {
        "id": "axGjRpPnLNIW"
      },
      "execution_count": null,
      "outputs": []
    },
    {
      "cell_type": "code",
      "source": [
        "Play_store_df[Play_store_df.duplicated()]"
      ],
      "metadata": {
        "id": "s-pH70HSLPf1"
      },
      "execution_count": null,
      "outputs": []
    },
    {
      "cell_type": "code",
      "source": [
        "# dropping duplicates from the 'App' column.\n",
        "Play_store_df.drop_duplicates(subset = 'App', inplace = True)\n",
        "Play_store_df.shape\n"
      ],
      "metadata": {
        "id": "aaVf8e0bLRgi"
      },
      "execution_count": null,
      "outputs": []
    },
    {
      "cell_type": "code",
      "source": [
        "# Checking whether the duplicates in the 'App' column are taken care of or not\n",
        "Play_store_df[Play_store_df['App']=='ROBLOX']"
      ],
      "metadata": {
        "id": "krs9T_KwLTyK"
      },
      "execution_count": null,
      "outputs": []
    },
    {
      "cell_type": "markdown",
      "source": [
        "We have successfully handled all the duplicate values in the App column. The resultant number of rows after droping the duplicate rows in the app column come out to be 9649."
      ],
      "metadata": {
        "id": "FH8QiTVNLXsW"
      }
    },
    {
      "cell_type": "markdown",
      "source": [
        "### **`2). Changing the datatype of the Last Updated column from string to datetime.`**"
      ],
      "metadata": {
        "id": "xqq64sDFtFVJ"
      }
    },
    {
      "cell_type": "code",
      "source": [
        "# Pandas to_datetime() function applied to the values in the last updated column helps to convert string Date time into Python Date time object.\n",
        "Play_store_df[\"Last Updated\"] = pd.to_datetime(Play_store_df['Last Updated'])\n",
        "Play_store_df.head()"
      ],
      "metadata": {
        "id": "WuVe0RYftMMJ"
      },
      "execution_count": null,
      "outputs": []
    },
    {
      "cell_type": "markdown",
      "source": [
        "### **`3). Changing the datatype of the Price column from string to float`.**"
      ],
      "metadata": {
        "id": "pv2HmQ8JtdU-"
      }
    },
    {
      "cell_type": "code",
      "source": [
        "#Converting the data type of the Price column from string to float for easier use.\n",
        "Play_store_df['Price'].value_counts()"
      ],
      "metadata": {
        "id": "p41vOoCitoHm"
      },
      "execution_count": null,
      "outputs": []
    },
    {
      "cell_type": "markdown",
      "source": [
        "To convert this column from string to float, we must first drop the $ symbol from the all the values. Then we can assign float datatype to those values.\n",
        "\n",
        "Applying the `drop_dollar` function to convert the values in the` Price` column from string datatype to float datatype."
      ],
      "metadata": {
        "id": "-Txn6zlRuPmr"
      }
    },
    {
      "cell_type": "code",
      "source": [
        "# Creating a function drop-dollar which drops the $ symbol if it is present and returns the output which is of float datatype.\n",
        "def convert_dollar(val):\n",
        "  '''\n",
        "  This funtion drops the $ symbol if present and returns the value with float datatype.\n",
        "  '''\n",
        "  if '$' in val:\n",
        "    return float(val[1:])\n",
        "  else:\n",
        "    return float(val)"
      ],
      "metadata": {
        "id": "xaYW051WuXLe"
      },
      "execution_count": null,
      "outputs": []
    },
    {
      "cell_type": "code",
      "source": [
        "# The drop_dollar funtion applied to the price column\n",
        "Play_store_df['Price']=Play_store_df['Price'].apply(lambda x: convert_dollar(x))\n",
        "Play_store_df.head()"
      ],
      "metadata": {
        "id": "ehggD5Bjuhpg"
      },
      "execution_count": null,
      "outputs": []
    },
    {
      "cell_type": "code",
      "source": [
        "#Check for Paid Application\n",
        "Play_store_df[Play_store_df['Price']!=0].head()"
      ],
      "metadata": {
        "id": "-sxtb_gjuq53"
      },
      "execution_count": null,
      "outputs": []
    },
    {
      "cell_type": "markdown",
      "source": [
        "We have successfully converted the datatype of values in the Price column from string to float."
      ],
      "metadata": {
        "id": "GBSdJTDpu4Lv"
      }
    },
    {
      "cell_type": "markdown",
      "source": [
        "### **`4). Converting the values of the Installs column from string datatype to integer datatype.`**"
      ],
      "metadata": {
        "id": "3ZG0vmtOu7_y"
      }
    },
    {
      "cell_type": "code",
      "source": [
        "# Checking the contents of the 'Installs' column\n",
        "Play_store_df['Installs'].value_counts()"
      ],
      "metadata": {
        "id": "0IuSaSNNvJoR"
      },
      "execution_count": null,
      "outputs": []
    },
    {
      "cell_type": "markdown",
      "source": [
        "To convert all the values in the **Installs** column from string datatype to integer datatype, we must first drop the '+' symbol from all the entries if present and then we can change its datatype.\n",
        "\n"
      ],
      "metadata": {
        "id": "INsotJVjvPBG"
      }
    },
    {
      "cell_type": "markdown",
      "source": [
        "Applying the `convert_plus` function to convert the values in the `Installs` column from string datatype to float datatype."
      ],
      "metadata": {
        "id": "pJ3uwNS8vWuG"
      }
    },
    {
      "cell_type": "code",
      "source": [
        "# Creating a function convert_plus which drops the '+' symbol if it is present and returns the output which is of integer datatype.\n",
        "\n",
        "def convert_plus(val):\n",
        "  '''\n",
        "  This function drops the + symbol if present and returns the value with int datatype.\n",
        "  '''\n",
        "  if '+' and ',' in val:\n",
        "    new = int(val[:-1].replace(',',''))\n",
        "    return new\n",
        "  elif '+' in val:\n",
        "    new1 = int(val[:-1])\n",
        "    return new1\n",
        "  else:\n",
        "    return int(val)"
      ],
      "metadata": {
        "id": "kcFxde1QvbZu"
      },
      "execution_count": null,
      "outputs": []
    },
    {
      "cell_type": "code",
      "source": [
        "# The drop_plus funtion applied to the main dataframe\n",
        "\n",
        "Play_store_df['Installs'] = Play_store_df['Installs'].apply(lambda x: convert_plus(x))\n",
        "Play_store_df.head()"
      ],
      "metadata": {
        "id": "84Rn7CMLvesp"
      },
      "execution_count": null,
      "outputs": []
    },
    {
      "cell_type": "markdown",
      "source": [
        "he resultant values in the **Installs** column are of the integer datatype, and it represents the least number of times a particular app has been installed.\n",
        "\n",
        "\n",
        "\n",
        "\n",
        "\n",
        "* **Installs** = 0 indicates that that particular app has not been installed by anyone yet.\n",
        "* **Installs** = 1 indicates that the particular app has been installed by atleast\n",
        "one user.\n",
        "* **Installs** = 1000000 indicates that the particular app has been installed by atleast one million users. So on and so forth.\n",
        "* We have successfully converted the datatype of values in the Installs column from string to int."
      ],
      "metadata": {
        "id": "yyMCPLn8v4Hw"
      }
    },
    {
      "cell_type": "markdown",
      "source": [
        "### **`5). Converting the values in the `Size` column to a same unit of measure(MB).`**"
      ],
      "metadata": {
        "id": "OK_jYnLswOS-"
      }
    },
    {
      "cell_type": "code",
      "source": [
        "Play_store_df['Size'].value_counts()"
      ],
      "metadata": {
        "id": "oGDgA9YywVrv"
      },
      "execution_count": null,
      "outputs": []
    },
    {
      "cell_type": "markdown",
      "source": [
        "We can see that the values in the Size column contains data with different units. 'M' stands for MB and 'k' stands for KB. To easily analyse this column, it is necessary to convert all the values to a single unit. In this case, we will convert all the units to MB.\n",
        "\n",
        "We know that 1MB = 1024KB, to convert KB to MB, we must divide all the values which are in KB by 1024."
      ],
      "metadata": {
        "id": "l0oL0yWGwaGu"
      }
    },
    {
      "cell_type": "code",
      "source": [
        "# Defining a function to convert all the entries in KB to MB and then converting them to float datatype.\n",
        "\n",
        "def convert_kb_to_mb(val):\n",
        "  '''\n",
        "  This function converts all the valid entries in KB to MB and returns the result in float datatype.\n",
        "  '''\n",
        "  try:\n",
        "    if 'M' in val:\n",
        "      return float(val[:-1])\n",
        "    elif 'k' in val:\n",
        "      return round(float(val[:-1])/1024, 4)\n",
        "    else:\n",
        "      return val\n",
        "  except:\n",
        "    return val"
      ],
      "metadata": {
        "id": "is7TWcLswcUE"
      },
      "execution_count": null,
      "outputs": []
    },
    {
      "cell_type": "markdown",
      "source": [
        "Applying the kb_to_mb function to convert the values in the Size column to a single unit of measure (MB) and the datatype from string to float."
      ],
      "metadata": {
        "id": "BDSeeWIPwgAX"
      }
    },
    {
      "cell_type": "code",
      "source": [
        "# The kb_to_mb funtion applied to the size column\n",
        "\n",
        "Play_store_df['Size'] = Play_store_df['Size'].apply(lambda x: convert_kb_to_mb(x))\n",
        "Play_store_df.head()"
      ],
      "metadata": {
        "id": "24es5mXxwiEB"
      },
      "execution_count": null,
      "outputs": []
    },
    {
      "cell_type": "code",
      "source": [
        "Play_store_df['Size'] = Play_store_df['Size'].apply(lambda x: str(x).replace('Varies with device', 'NaN') if 'Varies with device' in str(x) else x)\n",
        "Play_store_df['Size'] = Play_store_df['Size'].apply(lambda x: float(x))"
      ],
      "metadata": {
        "id": "ghWDx8v8wpKG"
      },
      "execution_count": null,
      "outputs": []
    },
    {
      "cell_type": "markdown",
      "source": [
        "A vast majority of the entries in the Size column contain the entry Varies with device. Since this entry cannot be used for analysis lets see if it can be imputed with the mean or median value of the entries in this column."
      ],
      "metadata": {
        "id": "FJ0WO7KQws4v"
      }
    },
    {
      "cell_type": "code",
      "source": [
        "# Finding max, min, mean, and median in the Size column excluding the 'Varies with device' values.\n",
        "\n",
        "max_size = Play_store_df[Play_store_df['Size'] != 'Varies with device']['Size'].max()\n",
        "\n",
        "min_size = Play_store_df[Play_store_df['Size'] != 'Varies with device']['Size'].min()\n",
        "\n",
        "mean_size = round(Play_store_df[Play_store_df['Size'] != 'Varies with device']['Size'].mean(),4)\n",
        "\n",
        "median_size = Play_store_df[Play_store_df['Size'] != 'Varies with device']['Size'].median()\n",
        "\n",
        "[max_size, min_size, mean_size, median_size]"
      ],
      "metadata": {
        "id": "7sjQbkcuwvV7"
      },
      "execution_count": null,
      "outputs": []
    },
    {
      "cell_type": "markdown",
      "source": [
        "**Visualization of distribution of `**Size**` using displot and detecting the outliers through boxplot.**"
      ],
      "metadata": {
        "id": "Mn1TGif-wxtR"
      }
    },
    {
      "cell_type": "code",
      "source": [
        "# Distplot\n",
        "fig, ax = plt.subplots(2,1, figsize=(12,7))\n",
        "sns.distplot(Play_store_df[Play_store_df['Size'] != 'Varies with device']['Size'], color='purple', ax=ax[0])\n",
        "sns.boxplot(x='Size',data=Play_store_df, ax=ax[1])"
      ],
      "metadata": {
        "id": "8Af8TE4Pwz3a"
      },
      "execution_count": null,
      "outputs": []
    },
    {
      "cell_type": "markdown",
      "source": [
        "* It is clear from the visualizations that the data in the **Size** column is skewed towards the right.\n",
        "* Also, we see that a vast majority of the entries in this column are of the value **Varies with device**, replacing this with any central tendency value (mean or median) may give incorrect visualizations and results. Hence these values are left as it is.\n",
        "\n",
        "* We have successfully converted all the valid entries in the **Size** column to a single unit of measure (MB) and the datatype from string to float."
      ],
      "metadata": {
        "id": "g_-nJHpMxF1o"
      }
    },
    {
      "cell_type": "markdown",
      "source": [
        "### **`6). Converting the datatype of values in the `Reviews` column from string to int.`**"
      ],
      "metadata": {
        "id": "kBjMyI0dzffP"
      }
    },
    {
      "cell_type": "code",
      "source": [
        "# Converting the datatype of the values in the reviews column from string to int\n",
        "Play_store_df['Reviews'] = Play_store_df['Reviews'].astype(int)\n",
        "Play_store_df.head()"
      ],
      "metadata": {
        "id": "ULJNNS_uzk85"
      },
      "execution_count": null,
      "outputs": []
    },
    {
      "cell_type": "code",
      "source": [
        "Play_store_df.describe()"
      ],
      "metadata": {
        "id": "7HhjPH3qznl3"
      },
      "execution_count": null,
      "outputs": []
    },
    {
      "cell_type": "markdown",
      "source": [
        "We have successfully converted the datatype of the values in the Reviews column from string to int.\n",
        "\n",
        "Now that we have handled the errors and NaN values in the playstoredata.csv file, lets do the same for the userreviews.csv file."
      ],
      "metadata": {
        "id": "6KXiekhrzqcG"
      }
    },
    {
      "cell_type": "markdown",
      "source": [
        "## **USER Reveiw Dataset Cleaning**"
      ],
      "metadata": {
        "id": "Nw989mBizX5c"
      }
    },
    {
      "cell_type": "markdown",
      "source": [
        "### Dataset First View"
      ],
      "metadata": {
        "id": "cTGsHkuXT32b"
      }
    },
    {
      "cell_type": "code",
      "source": [
        "# Checking the top 10 rows of the data\n",
        "User_Review_df.head()"
      ],
      "metadata": {
        "id": "WNJzyUZPT_Cg"
      },
      "execution_count": null,
      "outputs": []
    },
    {
      "cell_type": "markdown",
      "source": [
        "### Dataset Rows & Columns count"
      ],
      "metadata": {
        "id": "rk8LeBjI0MG0"
      }
    },
    {
      "cell_type": "code",
      "source": [
        "# Play Store dataset Rows & Columns count\n",
        "User_Review_df.shape"
      ],
      "metadata": {
        "id": "sk1jknJu0SSz"
      },
      "execution_count": null,
      "outputs": []
    },
    {
      "cell_type": "markdown",
      "source": [
        "### Dataset Information"
      ],
      "metadata": {
        "id": "cDj8KcyU0ufp"
      }
    },
    {
      "cell_type": "code",
      "source": [
        "# Play Store Dataset Info\n",
        "User_Review_df.info()"
      ],
      "metadata": {
        "id": "Czmm0aFl0yPV"
      },
      "execution_count": null,
      "outputs": []
    },
    {
      "cell_type": "markdown",
      "source": [
        "#### Missing Values/Null Values"
      ],
      "metadata": {
        "id": "YWHVl2iM1OyC"
      }
    },
    {
      "cell_type": "code",
      "source": [
        "# Missing Values/Null Values Count of Play store Datasets\n",
        "print(User_Review_df.isnull().sum())"
      ],
      "metadata": {
        "id": "cKBgd-W71S7K"
      },
      "execution_count": null,
      "outputs": []
    },
    {
      "cell_type": "code",
      "source": [
        "# Visualizing the missing values\n",
        "# We have already imported libraries with essentials as pd,np and sns\n",
        "\n",
        "#Calculate the count of missing values in each column\n",
        "missing_data = User_Review_df.isnull().sum()\n",
        "\n",
        "# Set Figure size for the plot\n",
        "plt.figure(figsize=(10,6))\n",
        "\n",
        "# Create a bar plot to visualize missing values\n",
        "plt.bar(missing_data.index, missing_data.values)\n",
        "\n",
        "# Set labels and title for the plot\n",
        "plt.xlabel('Columns')\n",
        "plt.ylabel('Missing Values Count')\n",
        "plt.title('Missing Values by Column')\n",
        "\n",
        "# Optionally, rotate x-axis labels for better readability\n",
        "plt.xticks(rotation=90)\n",
        "\n",
        "# Show the plot\n",
        "plt.show()"
      ],
      "metadata": {
        "id": "vXvSMj_M1efV"
      },
      "execution_count": null,
      "outputs": []
    },
    {
      "cell_type": "code",
      "source": [
        "# Set the figure size for the heatmap\n",
        "plt.figure(figsize=(10, 6))\n",
        "\n",
        "# Create a heatmap to visualize missing values\n",
        "sns.heatmap(User_Review_df.isnull(), cbar=False, cmap='viridis')\n",
        "\n",
        "# Set a title for the heatmap\n",
        "plt.title('Missing Values Heatmap')\n",
        "\n",
        "# Show the plot\n",
        "plt.show()"
      ],
      "metadata": {
        "id": "m20r5G0A1kQP"
      },
      "execution_count": null,
      "outputs": []
    },
    {
      "cell_type": "markdown",
      "source": [
        "### Variables Description"
      ],
      "metadata": {
        "id": "mLfxzjk54mHL"
      }
    },
    {
      "cell_type": "markdown",
      "source": [
        "**Let us first define what information the columns contain based on our inspection.**\n",
        "\n",
        "user_reviews dataframe has 64295 rows and 5 columns. The 5 columns are identified as follows:\n",
        "\n",
        "* **App:** Contains the name of the app with a short description (optional).\n",
        "* **Translated_Review:** It contains the English translation of the review dropped by the user of the app.\n",
        "* **Sentiment:** It gives the attitude/emotion of the writer. It can be ‘Positive’, ‘Negative’, or ‘Neutral’.\n",
        "* **Sentiment_Polarity:** It gives the polarity of the review. Its range is [-1,1], where 1 means ‘Positive statement’ and -1 means a ‘Negative statement’.\n",
        "* **Sentiment_Subjectivity:** This value gives how close a reviewers opinion is to the opinion of the general public. Its range is [0,1]. Higher the subjectivity, closer is the reviewers opinion to the opinion of the general public, and lower subjectivity indicates the review is more of a factual information."
      ],
      "metadata": {
        "id": "vHf91n6U2gaI"
      }
    },
    {
      "cell_type": "code",
      "source": [
        "def Urinfo():\n",
        "  temp1=pd.DataFrame(index=User_Review_df.columns)\n",
        "  temp1[\"datatype\"]=User_Review_df.dtypes\n",
        "  temp1[\"not null values\"]=User_Review_df.count()\n",
        "  temp1[\"null value\"]=User_Review_df.isnull().sum()\n",
        "  temp1[\"% of the null value\"]=User_Review_df.isnull().mean().round(4)*100\n",
        "  temp1[\"unique count\"]=User_Review_df.nunique()\n",
        "  return temp1\n",
        "Urinfo()"
      ],
      "metadata": {
        "id": "yydemq4ghwzd"
      },
      "execution_count": null,
      "outputs": []
    },
    {
      "cell_type": "markdown",
      "source": [
        "**Findings**\n",
        "\n",
        "The number of null values after removing duplicates are:\n",
        "* **Translated_Review** has 987 null values which contributes **3.22%** of the data.\n",
        "* **Sentiment** has 982 null values which contributes **3.20%** of the data.\n",
        "* **Sentiment_Polarity**  has 982 null values which contributes **3.20%** of the data.\n",
        "* **Sentiment_Subjectivity** has 982 null values which contributes **3.20%** of the data."
      ],
      "metadata": {
        "id": "hNEmqxHqh6ps"
      }
    },
    {
      "cell_type": "markdown",
      "source": [
        "### **Handling the error and NaN values in the User reviews**"
      ],
      "metadata": {
        "id": "uz7pRf40iJ9M"
      }
    },
    {
      "cell_type": "code",
      "source": [
        "# Finding the total no of NaN values in each column.\n",
        "User_Review_df.isnull().sum()"
      ],
      "metadata": {
        "id": "EWlNOVsMiNM1"
      },
      "execution_count": null,
      "outputs": []
    },
    {
      "cell_type": "markdown",
      "source": [
        "There are a lot of NaN values. We need to analyse these values and see how we can handle them."
      ],
      "metadata": {
        "id": "OkBIkukVipU0"
      }
    },
    {
      "cell_type": "code",
      "source": [
        "# checking the NaN values in the translated review column\n",
        "User_Review_df[User_Review_df['Translated_Review'].isnull()]"
      ],
      "metadata": {
        "id": "kycU_MaLirfF"
      },
      "execution_count": null,
      "outputs": []
    },
    {
      "cell_type": "markdown",
      "source": [
        "There are a total of 987 rows containing NaN values in the Translated_Review column.\n",
        "\n",
        "We can say that the apps which do not have a review (NaN value insted) tend to have NaN values in the columns `Sentiment, Sentiment_Polarity, and Sentiment_Subjectivity` in the majority of the cases.\n",
        "\n",
        "**Lets check if there are any exceptions.**"
      ],
      "metadata": {
        "id": "3iqpNJwbj30p"
      }
    },
    {
      "cell_type": "code",
      "source": [
        "# The rows corresponding to the NaN values in the translated_review column, where the rest of the columns are non null.\n",
        "User_Review_df[User_Review_df['Translated_Review'].isnull() & User_Review_df['Sentiment'].notna()]"
      ],
      "metadata": {
        "id": "zX4jilwfkf8X"
      },
      "execution_count": null,
      "outputs": []
    },
    {
      "cell_type": "markdown",
      "source": [
        "In the few exceptional cases where the values of remaining columns are non null for null values in the translated_Review column, there seems to be errors. This is because the Sentiment, sentiment ploarity and sentiment subjectivity of the review can be determined if and only if there is a corresponding review.\n",
        "\n",
        "Hence these values are wrong and can be deleted altogether."
      ],
      "metadata": {
        "id": "KGWJipNNkq_i"
      }
    },
    {
      "cell_type": "code",
      "source": [
        "# Deleting the rows containing NaN values\n",
        "User_Review_df = User_Review_df.dropna()"
      ],
      "metadata": {
        "id": "4NUPADfzktUE"
      },
      "execution_count": null,
      "outputs": []
    },
    {
      "cell_type": "code",
      "source": [
        "# The shape of the updated df\n",
        "User_Review_df.shape"
      ],
      "metadata": {
        "id": "8uVXuymOkzBI"
      },
      "execution_count": null,
      "outputs": []
    },
    {
      "cell_type": "markdown",
      "source": [
        "There are a total of 29692 rows in the updated df.\n",
        "\n",
        "Hence we have taken care of all the NaN values in the df.\n",
        "\n",
        "Lets inspect the updated df"
      ],
      "metadata": {
        "id": "RvMt1UjXlSHt"
      }
    },
    {
      "cell_type": "code",
      "source": [
        "# Inspecting the sentiment column\n",
        "User_Review_df['Sentiment'].value_counts()"
      ],
      "metadata": {
        "id": "HG50E-kblUJf"
      },
      "execution_count": null,
      "outputs": []
    },
    {
      "cell_type": "markdown",
      "source": [
        "The values in the `Sentiment_Polarity and Sentiment_Subjectivity`looks correct.\n",
        "\n",
        "On the given datasets, we successfully developed a data pipeline. We can now examine this data flow and create user-friendly visuals. It is easy to compare different measures using the visualizations, and thus to draw implications from them."
      ],
      "metadata": {
        "id": "s7vE_gB1lXUE"
      }
    },
    {
      "cell_type": "markdown",
      "source": [
        "## ***4. Data Vizualization, Storytelling & Experimenting with charts : Understand the relationships between variables***"
      ],
      "metadata": {
        "id": "GF8Ens_Soomf"
      }
    },
    {
      "cell_type": "markdown",
      "source": [
        "### **Data Visualization on play store data:**\n",
        "We have sucessfully cleaned the dirty data. Now we can perform some data visualization and come up with insights on the given datasets.\n",
        "\n"
      ],
      "metadata": {
        "id": "cVOyKId9z2-B"
      }
    },
    {
      "cell_type": "markdown",
      "source": [
        "### **`1) Correlation Heatmap`**"
      ],
      "metadata": {
        "id": "GIMN7TKM7DWr"
      }
    },
    {
      "cell_type": "code",
      "source": [
        "# Finding correlation between different columns in the play store data\n",
        "Play_store_df.corr()"
      ],
      "metadata": {
        "id": "GetNxNxT0_EK"
      },
      "execution_count": null,
      "outputs": []
    },
    {
      "cell_type": "code",
      "source": [
        "# Heat map for play_store\n",
        "plt.figure(figsize = (20,10))\n",
        "sns.heatmap(Play_store_df.corr(), annot= True)\n",
        "plt.title('Corelation Heatmap for Playstore Data', size=20)"
      ],
      "metadata": {
        "id": "g1qwtzE21FtN"
      },
      "execution_count": null,
      "outputs": []
    },
    {
      "cell_type": "markdown",
      "source": [
        "* There is a strong positive correlation between the Reviews and Installs column. This is pretty much obvious. Higher the number of installs, higher is the user base, and higher are the total number of reviews dropped by the users.\n",
        "* The` Price `is slightly negatively correlated with the `Rating, Reviews, and Installs.` This means that as the prices of the app increases, the average rating, total number of reviews and Installs fall slightly.\n",
        "* The` Rating` is slightly positively correlated with the` Installs and Reviews` column. This indicates that as the the average user rating increases, the app installs and number of reviews also increase."
      ],
      "metadata": {
        "id": "dlBd4xV81aUb"
      }
    },
    {
      "cell_type": "markdown",
      "source": [
        "#### **Let us check if there is any co-relation in both the dataframes.**"
      ],
      "metadata": {
        "id": "x7vPKfS71sOx"
      }
    },
    {
      "cell_type": "code",
      "source": [
        "merged_df = pd.merge(Play_store_df, User_Review_df, on='App', how = \"inner\")"
      ],
      "metadata": {
        "id": "eZU-6E451vRB"
      },
      "execution_count": null,
      "outputs": []
    },
    {
      "cell_type": "code",
      "source": [
        "def merged_dfinfo():\n",
        "  temp = pd.DataFrame(index=merged_df.columns)\n",
        "  temp['data_type'] = merged_df.dtypes\n",
        "  temp[\"count of non null values\"] = merged_df.count()\n",
        "  temp['NaN values'] = merged_df.isnull().sum()\n",
        "  temp['% NaN values'] =merged_df.isnull().mean()\n",
        "  temp['unique_count'] = merged_df.nunique()\n",
        "  return temp\n",
        "merged_dfinfo()"
      ],
      "metadata": {
        "id": "qrD9jl8n14Ui"
      },
      "execution_count": null,
      "outputs": []
    },
    {
      "cell_type": "code",
      "source": [
        "merged_df.corr()"
      ],
      "metadata": {
        "id": "0Lm7cMps2GM6"
      },
      "execution_count": null,
      "outputs": []
    },
    {
      "cell_type": "code",
      "source": [
        "# Correlation heatmap\n",
        "# Heat Map for the merged data frame\n",
        "plt.figure(figsize = (15,10))\n",
        "sns.heatmap(merged_df.corr(), annot= True, cmap='Greens')\n",
        "plt.title(' Heatmap for merged Dataframe', size=20)"
      ],
      "metadata": {
        "id": "ZXCo-3QN2Mza"
      },
      "execution_count": null,
      "outputs": []
    },
    {
      "cell_type": "code",
      "source": [
        "merged_df = merged_df.dropna(subset=['Sentiment', 'Translated_Review'])"
      ],
      "metadata": {
        "id": "Hi3CMHCe2TwI"
      },
      "execution_count": null,
      "outputs": []
    },
    {
      "cell_type": "code",
      "source": [
        "merged_df.head()"
      ],
      "metadata": {
        "id": "lyFIm0KV2XEh"
      },
      "execution_count": null,
      "outputs": []
    },
    {
      "cell_type": "markdown",
      "source": [
        "### **`2) What is the ratio of number of Paid apps and Free apps?`**\n"
      ],
      "metadata": {
        "id": "V69N1dPg2a0A"
      }
    },
    {
      "cell_type": "code",
      "source": [
        "data = Play_store_df['Type'].value_counts()\n",
        "labels = ['Free', 'Paid']\n",
        "\n",
        "# create pie chart\n",
        "plt.figure(figsize=(10,10))\n",
        "colors = [\"#00EE76\",\"#7B8895\"]\n",
        "explode=(0.01,0.1)\n",
        "plt.pie(data, labels = labels, colors = colors, autopct='%.2f%%',explode=explode,textprops={'fontsize': 15})\n",
        "plt.title('Distribution of Paid and Free apps',size=15,loc='center')\n",
        "plt.legend()"
      ],
      "metadata": {
        "id": "72QEvOBa2ph5"
      },
      "execution_count": null,
      "outputs": []
    },
    {
      "cell_type": "markdown",
      "source": [
        "**Findings:**\n",
        "\n",
        "From the above graph we can see that 93% of apps in google play store are free and 7%are paid."
      ],
      "metadata": {
        "id": "Cp0kMNDw20lQ"
      }
    },
    {
      "cell_type": "code",
      "source": [
        "Play_store_df['Content Rating'].unique()"
      ],
      "metadata": {
        "id": "GdeWahvc29bT"
      },
      "execution_count": null,
      "outputs": []
    },
    {
      "cell_type": "markdown",
      "source": [
        "### **`3) Which category of Apps from the Content Rating column are found more on playstore ?`**"
      ],
      "metadata": {
        "id": "6EQKCtkW3Epf"
      }
    },
    {
      "cell_type": "code",
      "source": [
        "# Content rating of the apps\n",
        "data = Play_store_df['Content Rating'].value_counts()\n",
        "labels = ['Everyone', 'Teen', 'Everyone 10+', 'Mature 17+','Adults only 18+', 'Unrated']\n",
        "\n",
        "#create pie chart\n",
        "plt.figure(figsize=(10,10))\n",
        "explode=(0,0.1,0.1,0.1,0.0,1.3)\n",
        "colors = ['C4', 'r', 'c', 'g', 'm', 'k']\n",
        "plt.pie(data, labels = labels, colors = colors, autopct='%.2f%%',explode=explode,textprops={'fontsize': 15})\n",
        "plt.title('Content Rating',size=20,loc='center')\n",
        "plt.legend()"
      ],
      "metadata": {
        "id": "kyMyMk2h3HFA"
      },
      "execution_count": null,
      "outputs": []
    },
    {
      "cell_type": "markdown",
      "source": [
        "A majority of the apps (81%) in the play store are can be used by everyone.The remaining apps have various age restrictions to use it."
      ],
      "metadata": {
        "id": "n3MAkkN33YDk"
      }
    },
    {
      "cell_type": "markdown",
      "source": [
        "### **`4) Top categories on Google Playstore?`**"
      ],
      "metadata": {
        "id": "strDC_QH3fSz"
      }
    },
    {
      "cell_type": "code",
      "source": [
        "Play_store_df.groupby(\"Category\")[\"App\"].count().sort_values(ascending= False)"
      ],
      "metadata": {
        "id": "tQBNeV463idy"
      },
      "execution_count": null,
      "outputs": []
    },
    {
      "cell_type": "code",
      "source": [
        "x = Play_store_df['Category'].value_counts()\n",
        "y = Play_store_df['Category'].value_counts().index\n",
        "x_list = []\n",
        "y_list = []\n",
        "for i in range(len(x)):\n",
        "    x_list.append(x[i])\n",
        "    y_list.append(y[i])"
      ],
      "metadata": {
        "id": "I_vODE6J3o9T"
      },
      "execution_count": null,
      "outputs": []
    },
    {
      "cell_type": "code",
      "source": [
        "#Number of apps belonging to each category in the playstore\n",
        "plt.figure(figsize=(20,8))\n",
        "plt.xlabel('Number of Apps', size=15)\n",
        "plt.ylabel('App Categories', size=15)\n",
        "graph = sns.barplot(y = x_list, x = y_list, palette= \"tab10\")\n",
        "graph.set_title(\"Top categories on Playstore\", fontsize = 25)\n",
        "graph.set_xticklabels(graph.get_xticklabels(), rotation= 45, horizontalalignment='right',);"
      ],
      "metadata": {
        "id": "i_XP6fT63t17"
      },
      "execution_count": null,
      "outputs": []
    },
    {
      "cell_type": "markdown",
      "source": [
        "**Findings:**\n",
        "\n",
        "So there are all total 33 categories in the dataset From the above output we can come to a conclusion that in playstore most of the apps are under` FAMILY & GAME` category and least are of `EVENTS & BEAUTY` Category."
      ],
      "metadata": {
        "id": "2mepMpkE311x"
      }
    },
    {
      "cell_type": "code",
      "source": [
        "# Percentage of apps belonging to each category in the playstore\n",
        "plt.figure(figsize=(11,11))\n",
        "plt.pie(Play_store_df.Category.value_counts(), labels=Play_store_df.Category.value_counts().index, autopct='%1.2f%%')\n",
        "my_circle = plt.Circle( (0,0), 0.50, color='white')\n",
        "p=plt.gcf()\n",
        "p.gca().add_artist(my_circle)\n",
        "plt.title('% of apps share in each Category', fontsize = 25)\n",
        "plt.show()"
      ],
      "metadata": {
        "id": "9d61-qTb4AsZ"
      },
      "execution_count": null,
      "outputs": []
    },
    {
      "cell_type": "markdown",
      "source": [
        "\n",
        "### **`5) Which category App's have most number of installs?`**"
      ],
      "metadata": {
        "id": "BZ01Pj4G4hHb"
      }
    },
    {
      "cell_type": "code",
      "source": [
        "# total app installs in each category of the play store\n",
        "\n",
        "a = Play_store_df.groupby(['Category'])['Installs'].sum().sort_values()\n",
        "a.plot.barh(figsize=(15,8), color = 'c', )\n",
        "plt.ylabel('Total app Installs', fontsize = 15)\n",
        "plt.xlabel('App Categories', fontsize = 15)\n",
        "plt.xticks()\n",
        "plt.title('Total app installs in each category', fontsize = 20)"
      ],
      "metadata": {
        "id": "sX0dOHpm4jF-"
      },
      "execution_count": null,
      "outputs": []
    },
    {
      "cell_type": "markdown",
      "source": [
        "**Findings:**\n",
        "\n",
        "This tells us the category of apps that has the maximum number of installs. The `Game,` `Communication and Tools` categories has the highest number of installs compared to other categories of apps."
      ],
      "metadata": {
        "id": "fd2NLnQJ4r7i"
      }
    },
    {
      "cell_type": "markdown",
      "source": [
        "### **`6). Average rating of the apps`**"
      ],
      "metadata": {
        "id": "R-0YAY6J8NdI"
      }
    },
    {
      "cell_type": "code",
      "source": [
        "# Average app ratings\n",
        "\n",
        "Play_store_df['Rating'].value_counts().plot.bar(figsize=(20,8), color = 'm' )\n",
        "plt.xlabel('Average rating',fontsize = 15 )\n",
        "plt.ylabel('Number of apps', fontsize = 15)\n",
        "plt.title('Average rating of apps in Playstore', fontsize = 20)\n",
        "plt.legend()"
      ],
      "metadata": {
        "id": "iEhZzkPs8PtD"
      },
      "execution_count": null,
      "outputs": []
    },
    {
      "cell_type": "markdown",
      "source": [
        "We can represent the ratings in a better way if we group the ratings between certain intervals. Here, we can group the rating as follows:\n",
        "\n",
        "* 4-5: Top rated\n",
        "* 3-4: Above average\n",
        "* 2-3: Average\n",
        "* 1-2: Below average"
      ],
      "metadata": {
        "id": "4S9wzwgF8V0n"
      }
    },
    {
      "cell_type": "markdown",
      "source": [
        "**Lets create a new column `Rating group` in the main dataframe and apply these filters.**"
      ],
      "metadata": {
        "id": "UBKzHYBv8cWe"
      }
    },
    {
      "cell_type": "code",
      "source": [
        "# Defining a function grouped_rating to group the ratings as mentioned above\n",
        "def Rating_app(val):\n",
        "  ''''\n",
        "  This function help to categories the rating from 1 to 5\n",
        "  as Top_rated,Above_average,Average & below Average\n",
        "  '''\n",
        "  if val>=4:\n",
        "    return 'Top rated'\n",
        "  elif val>3 and val<4:\n",
        "    return 'Above Average'\n",
        "  elif val>2 and val<3:\n",
        "    return 'Average'\n",
        "  else:\n",
        "    return 'Below Average'"
      ],
      "metadata": {
        "id": "gbPxrNO-8gU7"
      },
      "execution_count": null,
      "outputs": []
    },
    {
      "cell_type": "markdown",
      "source": [
        "**Lets apply the `grouped_rating` function on the Rating column and save the output in new column named as `Rating group` in the main df**."
      ],
      "metadata": {
        "id": "PHkNEJR58kuA"
      }
    },
    {
      "cell_type": "code",
      "source": [
        "# Applying grouped_rating function\n",
        "Play_store_df['Rating_group']=Play_store_df['Rating'].apply(lambda x: Rating_app(x))"
      ],
      "metadata": {
        "id": "0mIL0FZi8ndv"
      },
      "execution_count": null,
      "outputs": []
    },
    {
      "cell_type": "code",
      "source": [
        "# Average app ratings\n",
        "Play_store_df['Rating_group'].value_counts().plot.bar(figsize=(15,5), color = 'royalblue')\n",
        "plt.xlabel('Rating Group', fontsize = 12)\n",
        "plt.ylabel('Number of apps', fontsize = 12)\n",
        "plt.title('Average app ratings', fontsize = 18)\n",
        "plt.xticks(rotation=0)\n",
        "plt.legend()"
      ],
      "metadata": {
        "id": "3kT9aLzc8slY"
      },
      "execution_count": null,
      "outputs": []
    },
    {
      "cell_type": "markdown",
      "source": [
        "### **`7). What are the Top 10 installed apps in any category?`**"
      ],
      "metadata": {
        "id": "ETw-R6kU8x7E"
      }
    },
    {
      "cell_type": "code",
      "source": [
        "def findtop10incategory(str):\n",
        "    str = str.upper()\n",
        "    top10 = Play_store_df[Play_store_df['Category'] == str]\n",
        "    top10apps = top10.sort_values(by='Installs', ascending=False).head(10)\n",
        "    plt.figure(figsize=(20,5), dpi=100)\n",
        "    plt.title('Top 10 Installed Apps',size = 20)\n",
        "    graph = sns.barplot(x = top10apps.App, y = top10apps.Installs, palette= \"icefire\")\n",
        "    graph.set_xticklabels(graph.get_xticklabels(), rotation= 45, horizontalalignment='right')"
      ],
      "metadata": {
        "id": "fN7CpYk783JB"
      },
      "execution_count": null,
      "outputs": []
    },
    {
      "cell_type": "code",
      "source": [
        "findtop10incategory('GAME')"
      ],
      "metadata": {
        "id": "XzX5so2N9L4W"
      },
      "execution_count": null,
      "outputs": []
    },
    {
      "cell_type": "markdown",
      "source": [
        "**Findings:**\n",
        "\n",
        "From the above graph we can see that in the **`Game category Subway Surfers,Pou, Temple Run 2`** has the highest installs. In the same way we by passing different category names to the function, we can get the top 10 installed apps."
      ],
      "metadata": {
        "id": "eELkAk_b9PYr"
      }
    },
    {
      "cell_type": "markdown",
      "source": [
        "### **`8). Top apps that are of free type.`**\n"
      ],
      "metadata": {
        "id": "pmZb2Ubl-Y-j"
      }
    },
    {
      "cell_type": "code",
      "source": [
        " # Creating a df for only free apps\n",
        "\n",
        " free_df = Play_store_df[Play_store_df['Type'] == 'Free']"
      ],
      "metadata": {
        "id": "L17bE3Ml-bF7"
      },
      "execution_count": null,
      "outputs": []
    },
    {
      "cell_type": "code",
      "source": [
        "# Creating a df for top free apps\n",
        "\n",
        "top_free_df = free_df[free_df['Installs'] == free_df['Installs'].max()]\n",
        "top10free_apps=top_free_df.nlargest(10, 'Installs', keep='first')\n",
        "top10free_apps.head(10)"
      ],
      "metadata": {
        "id": "kDWzA4R2-dHu"
      },
      "execution_count": null,
      "outputs": []
    },
    {
      "cell_type": "code",
      "source": [
        "# Top free apps\n",
        "\n",
        "top_free_df['App']"
      ],
      "metadata": {
        "id": "85gVj-aC-ksD"
      },
      "execution_count": null,
      "outputs": []
    },
    {
      "cell_type": "code",
      "source": [
        "# Categories in which the top 20 free apps belong to\n",
        "top_free_df['Category'].value_counts().plot.bar(figsize=(20,6), color= ('darkcyan','blueviolet'))\n",
        "plt.xlabel('Category', size=15)\n",
        "plt.ylabel('Number of apps', size=15)\n",
        "plt.title('Categories in which the top 20 free apps belong', size=19)\n",
        "plt.xticks(rotation=45)\n",
        "plt.legend()"
      ],
      "metadata": {
        "id": "h_XP57M6-nKT"
      },
      "execution_count": null,
      "outputs": []
    },
    {
      "cell_type": "markdown",
      "source": [
        "### **`9). Top apps that are of paid type.`**"
      ],
      "metadata": {
        "id": "K950CbMv-uod"
      }
    },
    {
      "cell_type": "code",
      "source": [
        "# Creating a df containing only paid apps\n",
        "paid_df=Play_store_df[Play_store_df['Type']=='Paid']"
      ],
      "metadata": {
        "id": "Kj415v-M-wbW"
      },
      "execution_count": null,
      "outputs": []
    },
    {
      "cell_type": "code",
      "source": [
        "# Number of apps that can be installed at a particular price\n",
        "\n",
        "paid_df.groupby('Price')['App'].count().sort_values(ascending= False).plot.bar(figsize = (20,6), color = 'crimson')"
      ],
      "metadata": {
        "id": "qFol8b7i-yTu"
      },
      "execution_count": null,
      "outputs": []
    },
    {
      "cell_type": "markdown",
      "source": [
        "* The paid apps charge the users a certain amount to download and install the app. This amount varies from one app to another.\n",
        "* There are a lot of apps that charge a small amount whereas some apps charge a larger amount. In this case the price to download an app varies from USD 0.99 to USD 400.\n",
        "* In order to select the top paid apps, it won't be fair to look just into the numer of installs. This is because the apps that charge a lower installation fee will be installed by more number of people in general.\n",
        "* Here a better way to determine the top apps in the paid category is by finding the revenue it generated through app installs.\n",
        "* This is given by:\n",
        "\n",
        " Revenue generated through installs = (Number of installs)x(Price to install the app)\n"
      ],
      "metadata": {
        "id": "cQDplBGD-4tN"
      }
    },
    {
      "cell_type": "markdown",
      "source": [
        "**Lets define a new column Revenue in paid_df which gives the revenue generated by the app through installs alone.**"
      ],
      "metadata": {
        "id": "Ow17q-on-_qk"
      }
    },
    {
      "cell_type": "code",
      "source": [
        "# Creatng a new column 'Revenue' in paid_df\n",
        "paid_df['Revenue'] = paid_df['Installs']*paid_df['Price']\n",
        "paid_df.head()"
      ],
      "metadata": {
        "id": "CGQ4KK5y_BpY"
      },
      "execution_count": null,
      "outputs": []
    },
    {
      "cell_type": "code",
      "source": [
        "# Top app in the paid category\n",
        "\n",
        "paid_df[paid_df['Revenue'] == paid_df['Revenue'].max()]"
      ],
      "metadata": {
        "id": "Z98ww2ya_F3C"
      },
      "execution_count": null,
      "outputs": []
    },
    {
      "cell_type": "code",
      "source": [
        "# Top 10 paid apps in the play store\n",
        "top10paid_apps=paid_df.nlargest(10, 'Revenue', keep='first')\n",
        "top10paid_apps['App']"
      ],
      "metadata": {
        "id": "a-EN7JzL_Huo"
      },
      "execution_count": null,
      "outputs": []
    },
    {
      "cell_type": "code",
      "source": [
        "# Categories in which the top 10 paid apps belong to\n",
        "top10paid_apps['Category'].value_counts().plot.bar(figsize=(15,5), color= [\"orange\", \"red\", \"green\", \"blue\", \"purple\"])\n",
        "plt.xlabel('Category',size=12)\n",
        "plt.ylabel('Number of apps',size=12)\n",
        "plt.title('Categories in which the top 10 paid apps belong', size=15)\n",
        "plt.xticks(rotation=0)\n",
        "plt.legend()"
      ],
      "metadata": {
        "id": "zQim24z9_M6i"
      },
      "execution_count": null,
      "outputs": []
    },
    {
      "cell_type": "code",
      "source": [
        "# Top paid apps according to the revenue generated through installs alone\n",
        "top10paid_apps.groupby('App')['Revenue'].mean().sort_values(ascending= True).plot.barh(figsize=(16,10), color='darkorange')\n",
        "plt.xlabel('Revenue Generated (USD)', size=15)\n",
        "plt.title('Top apps based on revenue generated through installation fee', size=20)\n",
        "plt.legend()"
      ],
      "metadata": {
        "id": "cadDRXJF_WNt"
      },
      "execution_count": null,
      "outputs": []
    },
    {
      "cell_type": "code",
      "source": [
        "# Paid apps with the highest number of installs\n",
        "paid_df[paid_df['Revenue'] == paid_df['Revenue'].max()]"
      ],
      "metadata": {
        "id": "Fb5Wvvll_ZQM"
      },
      "execution_count": null,
      "outputs": []
    },
    {
      "cell_type": "markdown",
      "source": [
        "### **`10). Distribution of apps based on its size`**"
      ],
      "metadata": {
        "id": "SspCSwfU_lJq"
      }
    },
    {
      "cell_type": "code",
      "source": [
        "# Values calculated earlier\n",
        "[mean_size,median_size,max_size,min_size]"
      ],
      "metadata": {
        "id": "4LG1YyN-_nVt"
      },
      "execution_count": null,
      "outputs": []
    },
    {
      "cell_type": "markdown",
      "source": [
        "\n",
        "*   The size of an app in our database varies from 100 MB to 0.0083 MB.\n",
        "We can analyse the size of the apps if we can group them into certain intervals.\n",
        "\n",
        "*   We have already established that the data in the numeric values in the 'Size' column are skewed towards the left.\n",
        "*   Lets group the data in the size column as follows into intervals of 10 each:\n",
        "\n",
        "(< 1 MB, 1-10, 10-20, 20-30, ..., 90-100, 'Varies with device')\n"
      ],
      "metadata": {
        "id": "A4beTLJU_rFN"
      }
    },
    {
      "cell_type": "markdown",
      "source": [
        "\n",
        "**Lets create a function to create the size intervals**"
      ],
      "metadata": {
        "id": "V6deNIaB_uVK"
      }
    },
    {
      "cell_type": "code",
      "source": [
        "# Function to group the apps based on its size in MB\n",
        "\n",
        "def size_apps(var):\n",
        "  '''\n",
        "  This function groups the size of an app\n",
        "  between ~0 to 100 MB into certain intervals.\n",
        "  '''\n",
        "  try:\n",
        "    if var < 1:\n",
        "      return 'Below 1'\n",
        "    elif var >= 1 and var <10:\n",
        "      return '1-10'\n",
        "    elif var >= 10 and var <20:\n",
        "      return '10-20'\n",
        "    elif var >= 20 and var <30:\n",
        "      return '20-30'\n",
        "    elif var >= 30 and var <40:\n",
        "      return '30-40'\n",
        "    elif var >= 40 and var <50:\n",
        "      return '40-50'\n",
        "    elif var >= 50 and var <60:\n",
        "      return '50-60'\n",
        "    elif var >= 60 and var <70:\n",
        "      return '60-70'\n",
        "    elif var >= 70 and var <80:\n",
        "      return '70-80'\n",
        "    elif var >= 80 and var <90:\n",
        "      return '80-90'\n",
        "    else:\n",
        "      return '90 and above'\n",
        "  except:\n",
        "    return var"
      ],
      "metadata": {
        "id": "ZYI0ofuK_wgt"
      },
      "execution_count": null,
      "outputs": []
    },
    {
      "cell_type": "markdown",
      "source": [
        "**Lets apply the `size_group` function on the Size column and store the results in a new column named `Size` group.**"
      ],
      "metadata": {
        "id": "u3pnrCVm_0ZO"
      }
    },
    {
      "cell_type": "code",
      "source": [
        "Play_store_df['size_group']=Play_store_df['Size'].apply(lambda x : size_apps(x))\n",
        "Play_store_df.head()"
      ],
      "metadata": {
        "id": "yrl5pNI3_25D"
      },
      "execution_count": null,
      "outputs": []
    },
    {
      "cell_type": "code",
      "source": [
        "# no of apps belonging to each size group\n",
        "Play_store_df['size_group'].value_counts().plot.barh(figsize=(20,8),color='r').invert_yaxis()\n",
        "plt.title(\"Number of apps in different size groups\", size=20)\n",
        "plt.ylabel('App size in MB', size=15)\n",
        "plt.xlabel('No of apps', size=15)\n",
        "plt.legend()"
      ],
      "metadata": {
        "id": "xec6kOk-_5Kw"
      },
      "execution_count": null,
      "outputs": []
    },
    {
      "cell_type": "code",
      "source": [
        "# average no of user reviews in each size group\n",
        "Play_store_df.groupby('size_group')['Reviews'].mean().sort_values().plot.barh(figsize=(20,8), color = 'green')\n",
        "plt.title(\"Average number of user reviews (in millions)\", size=20)\n",
        "plt.xlabel('Average no of user reviews', size=15)\n",
        "plt.ylabel('App size in MB', size=15)\n",
        "plt.legend()"
      ],
      "metadata": {
        "id": "t_QHDJ4AAFzU"
      },
      "execution_count": null,
      "outputs": []
    },
    {
      "cell_type": "code",
      "source": [
        "# average number of app installs in each category\n",
        "\n",
        "Play_store_df.groupby('size_group')['Installs'].mean().sort_values(ascending= False).plot.barh(figsize=(20,8),color='sandybrown').invert_yaxis()\n",
        "plt.title(\"Average number of app installs (In 10 millions)\", size=20)\n",
        "plt.ylabel('App size in MB', size=15)\n",
        "plt.xlabel('Average no of app installs',  size=15)\n",
        "plt.legend()"
      ],
      "metadata": {
        "id": "-d0VaQU5AKdE"
      },
      "execution_count": null,
      "outputs": []
    },
    {
      "cell_type": "markdown",
      "source": [
        "\n",
        "*   The sizes of the majority of the apps range in between 1 and 20 MB.\n",
        "*   There are a good number of apps whose size varies with the device.\n",
        "\n",
        "*   The apps which are smaller in size on average have lower no of app installs and user reviews."
      ],
      "metadata": {
        "id": "wPo4RC--A6hB"
      }
    },
    {
      "cell_type": "markdown",
      "source": [
        "### **`11). Android version based on each category`**\n",
        "Now I am going to group it to 1 till 8 version of android. Change the null value to 1.0."
      ],
      "metadata": {
        "id": "AWk7MMgWA9V7"
      }
    },
    {
      "cell_type": "code",
      "source": [
        "Play_store_df['Android Ver'].replace(to_replace=['4.4W and up','Varies with device'], value=['4.4','1.0'],inplace=True)\n",
        "Play_store_df['Android Ver'].replace({k: '1.0' for k in ['1.0','1.0 and up','1.5 and up','1.6 and up']},inplace=True)\n",
        "Play_store_df['Android Ver'].replace({k: '2.0' for k in ['2.0 and up','2.0.1 and up','2.1 and up','2.2 and up','2.2 - 7.1.1','2.3 and up','2.3.3 and up']},inplace=True)\n",
        "Play_store_df['Android Ver'].replace({k: '3.0' for k in ['3.0 and up','3.1 and up','3.2 and up']},inplace=True)\n",
        "Play_store_df['Android Ver'].replace({k: '4.0' for k in ['4.0 and up','4.0.3 and up','4.0.3 - 7.1.1','4.1 and up','4.1 - 7.1.1','4.2 and up','4.3 and up','4.4','4.4 and up']},inplace=True)\n",
        "Play_store_df['Android Ver'].replace({k: '5.0' for k in ['5.0 - 6.0','5.0 - 7.1.1','5.0 - 8.0','5.0 and up','5.1 and up']},inplace=True)\n",
        "Play_store_df['Android Ver'].replace({k: '6.0' for k in ['6.0 and up']},inplace=True)\n",
        "Play_store_df['Android Ver'].replace({k: '7.0' for k in ['7.0 - 7.1.1','7.0 and up','7.1 and up']},inplace=True)\n",
        "Play_store_df['Android Ver'].replace({k: '8.0' for k in ['8.0 and up']},inplace=True)\n",
        "Play_store_df['Android Ver'].fillna('1.0', inplace=True)"
      ],
      "metadata": {
        "id": "wCdzYSdHA_se"
      },
      "execution_count": null,
      "outputs": []
    },
    {
      "cell_type": "code",
      "source": [
        "print(Play_store_df.groupby('Category')['Android Ver'].value_counts())\n",
        "Type_cat = Play_store_df.groupby('Category')['Android Ver'].value_counts().unstack().plot.bar(figsize=(25,8), width=2)\n",
        "plt.xticks()\n",
        "plt.show()"
      ],
      "metadata": {
        "id": "ce6ZjWEZBGOW"
      },
      "execution_count": null,
      "outputs": []
    },
    {
      "cell_type": "markdown",
      "source": [
        "**Findings:**\n",
        "\n",
        "It is clearly evident from the above plot that majority of the apps are working on **`Android_Ver 4.0 and up`**."
      ],
      "metadata": {
        "id": "2eEjq3kEBMgI"
      }
    },
    {
      "cell_type": "markdown",
      "source": [
        "#**Data Exploration--Univariate & Bivariate Analysis**\n",
        "**Pair plot** is used to understand the best set of features to explain a relationship between two variables or to form the most separated clusters. It also helps to form some simple classification models by drawing some simple lines or make linear separation in our data-set.\n",
        "\n",
        "Plot a pairwise plot between all the quantitative variables to look for any evident patterns or relationships between the features"
      ],
      "metadata": {
        "id": "nz_TxGdHN566"
      }
    },
    {
      "cell_type": "code",
      "source": [
        "Rating = Play_store_df['Rating']\n",
        "Size = Play_store_df['Size']\n",
        "Installs = Play_store_df['Installs']\n",
        "Reviews = Play_store_df['Reviews']\n",
        "Type = Play_store_df['Type']\n",
        "Price = Play_store_df['Price']\n",
        "\n",
        "p = sns.pairplot(pd.DataFrame(list(zip(Rating, Size, np.log(Installs), np.log10(Reviews), Price, Type)),\n",
        "                        columns=['Rating','Size', 'Installs', 'Reviews', 'Price','Type']), hue='Type')\n",
        "p.fig.suptitle(\"Pairwise Plot - Rating, Size, Installs, Reviews, Price\",x=0.5, y=1.0, fontsize=16)"
      ],
      "metadata": {
        "id": "lykTIB9TN-_Q"
      },
      "execution_count": null,
      "outputs": []
    },
    {
      "cell_type": "markdown",
      "source": [
        "**FINDINGS**\n",
        "* Most of the App are Free.\n",
        "* Most of the Paid Apps have Rating around 4\n",
        "* As the number of installation increases the number of reviews of the particaular app also increases.\n",
        "*Most of the Apps are light-weighted."
      ],
      "metadata": {
        "id": "Nq92fif3OBhL"
      }
    },
    {
      "cell_type": "markdown",
      "source": [
        "## **☘ Let us see what insight we can have on the basis of Size of an app**\n",
        "\n",
        "## **`Size vs Rating`**"
      ],
      "metadata": {
        "id": "viBtnGstOEaA"
      }
    },
    {
      "cell_type": "code",
      "source": [
        "sns.set_style(\"whitegrid\", {'axes.grid' : False})\n",
        "sns.lmplot(y='Rating',x='Size',data=ps_df,col=\"Category\", hue=\"Category\",col_wrap=4,line_kws={'color': 'red'})\n"
      ],
      "metadata": {
        "id": "Uzrw_m2YOHLh"
      },
      "execution_count": null,
      "outputs": []
    },
    {
      "cell_type": "markdown",
      "source": [
        "# **Data Visualization on User Reviews:**\n"
      ],
      "metadata": {
        "id": "Cdco5QHXRYR0"
      }
    },
    {
      "cell_type": "markdown",
      "source": [
        "### **`1). Percentage of Review Sentiments`**"
      ],
      "metadata": {
        "id": "NuYDRAq8OfBP"
      }
    },
    {
      "cell_type": "code",
      "source": [
        "# Basic inspection\n",
        "User_Review_df.columns"
      ],
      "metadata": {
        "id": "u3d1ywTERaD0"
      },
      "execution_count": null,
      "outputs": []
    },
    {
      "cell_type": "code",
      "source": [
        "import matplotlib\n",
        "counts = list(User_Review_df['Sentiment'].value_counts())\n",
        "labels = 'Positive Reviews', 'Negative Reviews','Neutral Reviews'\n",
        "matplotlib.rcParams['font.size'] = 20\n",
        "matplotlib.rcParams['figure.figsize'] = (10, 15)\n",
        "plt.pie(counts, labels=labels, explode=[0.01, 0.05, 0.05], shadow=True, autopct=\"%.2f%%\")\n",
        "plt.title('Percentage of Review Sentiments', fontsize=20)\n",
        "plt.axis('off')\n",
        "plt.legend(bbox_to_anchor=(0.9, 0, 0.5, 1))\n",
        "plt.show()"
      ],
      "metadata": {
        "id": "49I8S8JoRcB1"
      },
      "execution_count": null,
      "outputs": []
    },
    {
      "cell_type": "markdown",
      "source": [
        "**Findings:**\n",
        "\n",
        "1. Positive reviews are **64.04%**\n",
        "2. Negative reviews are **21.29%**\n",
        "3. Neutral reviews are **14.67%**"
      ],
      "metadata": {
        "id": "F1Tf8kizReIa"
      }
    },
    {
      "cell_type": "markdown",
      "source": [
        "### **`2). Apps with the highest number of positive reviews`**"
      ],
      "metadata": {
        "id": "6h5WUhRkRhtt"
      }
    },
    {
      "cell_type": "code",
      "source": [
        "# positive reviews\n",
        "positive_ur_df=User_Review_df[User_Review_df['Sentiment']=='Positive']\n",
        "positive_ur_df"
      ],
      "metadata": {
        "id": "cVYURYCxRghQ"
      },
      "execution_count": null,
      "outputs": []
    },
    {
      "cell_type": "code",
      "source": [
        "positive_ur_df.groupby('App')['Sentiment'].value_counts().nlargest(10).plot.barh(figsize=(15,8),color='seagreen').invert_yaxis()\n",
        "plt.title(\"Top 10 positive review apps\")\n",
        "plt.xlabel('Total number of positive reviews')\n",
        "plt.legend()"
      ],
      "metadata": {
        "id": "pY6NA-BoRlzj"
      },
      "execution_count": null,
      "outputs": []
    },
    {
      "cell_type": "markdown",
      "source": [
        "### **`3). Apps with the highest number of negative reviews.`**"
      ],
      "metadata": {
        "id": "nB8O_idFRnuJ"
      }
    },
    {
      "cell_type": "code",
      "source": [
        "negative_ur_df=User_Review_df[User_Review_df['Sentiment']=='Negative']\n",
        "negative_ur_df"
      ],
      "metadata": {
        "id": "yFY-phFhRpoZ"
      },
      "execution_count": null,
      "outputs": []
    },
    {
      "cell_type": "code",
      "source": [
        "negative_ur_df.groupby('App')['Sentiment'].value_counts().nlargest(10).plot.barh(figsize=(15,8),color='crimson').invert_yaxis()\n",
        "plt.title(\"Top 10 negative review apps\")\n",
        "plt.xlabel('Total number of negative reviews')\n",
        "plt.legend()"
      ],
      "metadata": {
        "id": "m1Ce550SRr3D"
      },
      "execution_count": null,
      "outputs": []
    },
    {
      "cell_type": "markdown",
      "source": [
        "### **`4). Histogram of Subjectivity`**"
      ],
      "metadata": {
        "id": "riC64_Q3S-9l"
      }
    },
    {
      "cell_type": "code",
      "source": [
        "merged_df.Sentiment_Subjectivity.value_counts()"
      ],
      "metadata": {
        "id": "A4zC4Fj6TAkz"
      },
      "execution_count": null,
      "outputs": []
    },
    {
      "cell_type": "code",
      "source": [
        "plt.figure(figsize=(18,9))\n",
        "plt.xlabel(\"Subjectivity\")\n",
        "plt.title(\"Distribution of Subjectivity\")\n",
        "plt.hist(merged_df[merged_df['Sentiment_Subjectivity'].notnull()]['Sentiment_Subjectivity'])\n",
        "plt.show()"
      ],
      "metadata": {
        "id": "MdGb0zApTCOu"
      },
      "execution_count": null,
      "outputs": []
    },
    {
      "cell_type": "markdown",
      "source": [
        " **Findings:**\n",
        "\n",
        "**`0 - objective(fact), 1 - subjective(opinion)`**\n",
        "\n",
        "It can be seen that maximum number of sentiment subjectivity lies between 0.4 to 0.7. From this we can conclude that maximum number of users give reviews to the applications, according to their experience."
      ],
      "metadata": {
        "id": "9JMfaKwBTEJw"
      }
    },
    {
      "cell_type": "markdown",
      "source": [
        "### **`5). Is sentiment_subjectivity proportional to sentiment_polarity?`**"
      ],
      "metadata": {
        "id": "JU2HL5MPTGh5"
      }
    },
    {
      "cell_type": "code",
      "source": [
        "# scatterplot of sentiment polarity and sentiment subjectivity\n",
        "plt.figure(figsize=(15, 10))\n",
        "sns.scatterplot(x=User_Review_df['Sentiment_Subjectivity'], y=User_Review_df['Sentiment_Polarity'],hue = User_Review_df['Sentiment'], edgecolor='white', palette=\"inferno\")\n",
        "plt.title(\"Google Play Store Reviews Sentiment Analysis\", fontsize=20)\n",
        "plt.show()"
      ],
      "metadata": {
        "id": "CXdJtU3kTIar"
      },
      "execution_count": null,
      "outputs": []
    },
    {
      "cell_type": "markdown",
      "source": [
        "From the above scatter plot it can be concluded that sentiment subjectivity is not always proportional to sentiment polarity but in maximum number of case, shows a proportional behavior, when variance is too high or low"
      ],
      "metadata": {
        "id": "hMjdD6MNTKee"
      }
    },
    {
      "cell_type": "markdown",
      "source": [
        "# **How Content Rating affect over the App**"
      ],
      "metadata": {
        "id": "SMYQhUroVKpK"
      }
    },
    {
      "cell_type": "markdown",
      "source": [
        "### **1.) Paid App Content Rating**"
      ],
      "metadata": {
        "id": "xVRhi4I6VM_-"
      }
    },
    {
      "cell_type": "code",
      "source": [
        "paid_df['Content Rating'].value_counts().plot.bar(figsize=(10,10),color='c')\n",
        "plt.legend()"
      ],
      "metadata": {
        "id": "_3xOV70aVO5K"
      },
      "execution_count": null,
      "outputs": []
    },
    {
      "cell_type": "markdown",
      "source": [
        "### **2.) Free App content Rating**"
      ],
      "metadata": {
        "id": "piCN0L4KVRHL"
      }
    },
    {
      "cell_type": "code",
      "source": [
        "free_df['Content Rating'].value_counts().plot.bar(figsize=(10,10),color='blue')\n",
        "plt.legend()"
      ],
      "metadata": {
        "id": "IhJMuS4vVTDk"
      },
      "execution_count": null,
      "outputs": []
    },
    {
      "cell_type": "markdown",
      "source": [
        "Most Number of content ratings which got on Google Play Store can be used by everyone.The remaining apps have various age restrictions to use it."
      ],
      "metadata": {
        "id": "7o6dnxvHVV2a"
      }
    },
    {
      "cell_type": "markdown",
      "source": [
        "### **3.) Does Last Update date has an effects on rating?**"
      ],
      "metadata": {
        "id": "XAjIqvy8VYKt"
      }
    },
    {
      "cell_type": "code",
      "source": [
        "print(Play_store_df['Last Updated'].head())\n",
        "#fetch update year from date\n",
        "Play_store_df[\"Update year\"] = Play_store_df[\"Last Updated\"].apply(lambda x: x.strftime('%Y')).astype('int64')"
      ],
      "metadata": {
        "id": "NLSotnlwVaNr"
      },
      "execution_count": null,
      "outputs": []
    },
    {
      "cell_type": "code",
      "source": [
        "fig, ax = plt.subplots(figsize=(12,6))\n",
        "sns.regplot(x=\"Update year\", y=\"Rating\", data=Play_store_df)\n",
        "plt.title(\"Update Year VS Rating\")"
      ],
      "metadata": {
        "id": "ajPN2e-lVcF3"
      },
      "execution_count": null,
      "outputs": []
    },
    {
      "cell_type": "markdown",
      "source": [
        "### **4.) Distribution of App update over the Year**"
      ],
      "metadata": {
        "id": "xzTmrYQzVehV"
      }
    },
    {
      "cell_type": "code",
      "source": [
        "paid_df[\"Update year\"] = paid_df[\"Last Updated\"].apply(lambda x: x.strftime('%Y')).astype('int64')\n",
        "free_df[\"Update year\"] = free_df[\"Last Updated\"].apply(lambda x: x.strftime('%Y')).astype('int64')"
      ],
      "metadata": {
        "id": "toolgi8tVgfJ"
      },
      "execution_count": null,
      "outputs": []
    },
    {
      "cell_type": "code",
      "source": [
        "paid_df.groupby(\"Update year\")[\"App\"].count().plot.line(marker='o')\n",
        "free_df.groupby('Update year')['App'].count().plot.line(marker='o')"
      ],
      "metadata": {
        "id": "tlNrZqkuViVl"
      },
      "execution_count": null,
      "outputs": []
    },
    {
      "cell_type": "markdown",
      "source": [
        "In the above plot, we plotted the apps updated or added over the years comparing Free vs. Paid, by observing this plot we can conclude that before 2011 there were no paid apps, but with the years passing free apps has been added more in comparison to paid apps, By comparing the apps updated or added in the year 2011 and 2018 free apps are increases from 80% to 96% and paid apps are goes from 20% to 4%. So we can conclude that most of the people are after free apps"
      ],
      "metadata": {
        "id": "QPhOikz8Vkhz"
      }
    },
    {
      "cell_type": "markdown",
      "source": [
        "## **5.) Distribution of Paid and Free app updated over the Month**"
      ],
      "metadata": {
        "id": "J8JT01tdVoip"
      }
    },
    {
      "cell_type": "code",
      "source": [
        "paid_df[\"Update month\"] = paid_df[\"Last Updated\"].apply(lambda x: x.strftime('%m')).astype('int64')\n",
        "free_df[\"Update month\"] = free_df[\"Last Updated\"].apply(lambda x: x.strftime('%m')).astype('int64')"
      ],
      "metadata": {
        "id": "8lvMTUQ0VnXX"
      },
      "execution_count": null,
      "outputs": []
    },
    {
      "cell_type": "code",
      "source": [
        "paid_df.groupby(\"Update month\")[\"App\"].count().plot.bar(figsize=(10,8), color= \"green\")\n",
        "plt.title(\"Paid Apps update over the month\", size=20)\n",
        "plt.legend()"
      ],
      "metadata": {
        "id": "RIgUDBFxVu0p"
      },
      "execution_count": null,
      "outputs": []
    },
    {
      "cell_type": "markdown",
      "source": [
        "Most of the paid apps too updates in the month of July same as free apps."
      ],
      "metadata": {
        "id": "kropoJIXVxzI"
      }
    },
    {
      "cell_type": "code",
      "source": [
        "free_df.groupby(\"Update month\")[\"App\"].count().plot.bar(figsize=(10,8), color='purple')\n",
        "plt.title(\"Free Apps update over the month\", size=20)\n",
        "plt.legend()"
      ],
      "metadata": {
        "id": "slNtqgDPVzqr"
      },
      "execution_count": null,
      "outputs": []
    },
    {
      "cell_type": "markdown",
      "source": [
        "In this data almost 50% apps are added or updated on the month of July, 25% of apps are updated or added on the month of August and rest of 25% remaining months."
      ],
      "metadata": {
        "id": "uMx-1EUvV4if"
      }
    },
    {
      "cell_type": "markdown",
      "source": [
        "# ▶**Analysis Summary**\n",
        "In this project of analyzing play store applications, we have worked on several parameters which would help AlmaBetter to do well in launching their apps on the play store.\n",
        "\n",
        "In the initial phase, we focused more on the problem statements and data cleaning, in order to ensure that we give them the best results out of our analysis.\n",
        "\n",
        "AlmaBetter needs to focus more on:\n",
        "1. Developing apps related to the least categories as they are not explored much. Like events and beauty.\n",
        "2. Most of the apps are Free, so focusing on free app is more important.\n",
        "3. Focusing more on content available for Everyone will increase the chances of getting the highest installs.\n",
        "4. They need to focus on updating their apps regularly, so that it will attract more users.\n",
        "5. They need to keep in mind that the sentiments of the user keep varying as they keep using the app, so they should focus more on users needs and features.\n",
        "\n",
        "* Percentage of free apps = ~92%\n",
        "* Percentage of apps with no age restrictions = ~82%\n",
        "* Most competitive category: Family\n",
        "* Category with the highest average app installs: Game\n",
        "* Percentage of apps that are top rated = ~80%\n",
        "* Family, Game and Tools are top three categories having 1906, 926 and 829 app count.\n",
        "* Tools, Entertainment, Education, Buisness and Medical are top Genres.\n",
        "* 8783 Apps are having size less than 50 MB. 7749 Apps are having rating more than 4.0 including both type of apps.\n",
        "* There are 20 free apps that have been installed over a billion times.\n",
        "* Minecraft is the only app in the paid category with over 10M installs. This app has also produced the most revenue only from the installation fee.\n",
        "* Category in which the paid apps have the highest average installation fee: Finance\n",
        "* The median size of all apps in the play store is 12 MB.\n",
        "* The apps whose size varies with device has the highest number average app installs.\n",
        "* The apps whose size is greater than 90 MB has the highest number of average user reviews, ie, they are more popular than the rest.\n",
        "* Helix Jump has the highest number of positive reviews and Angry Birds Classic has the highest number of negative reviews.\n",
        "* Overall sentiment count of merged dataset in which Positive sentiment count is 64%, Negative 22% and Neutral 13%."
      ],
      "metadata": {
        "id": "GKf2X6jAXIrU"
      }
    },
    {
      "cell_type": "markdown",
      "source": [
        "**1.Rating**\n",
        "\n",
        "Most of the apps have rating in between 4 and 5.\n",
        "\n",
        "Most numbers of apps are rated at 4.3\n",
        "\n",
        "Categories of apps have more than 4 average rating.item\n",
        "\n",
        " **2.Size**\n",
        "\n",
        "Maximum number of applications present in the dataset are of small size.\n",
        "\n",
        "**3.Installs**\n",
        "\n",
        "Majority of the apps come into these three categories, Family, Game, and Tools.\n",
        "\n",
        "Maximum number of apps present in google play store come under Family, Game and tools but as per the installation and requirement in the market plot, scenario is not the same. Maximum installed apps comes under Game, Communication, Productivity and Social.\n",
        "\n",
        "Subway Surfers, Facebook, Messenger and Google Drive are the most installed apps.\n",
        "\n",
        "**4.Type(Free/Paid)**\n",
        "\n",
        "About 92% apps are free and 8% apps are of paid type.\n",
        "\n",
        "The category ‘Family’ has the highest number of paid apps.\n",
        "\n",
        "Free apps are installed more than paid apps.\n",
        "\n",
        "The app “I’m Rich — Trump Edition” from the category ‘Lifestyle’ is the most costly app priced at $400\n",
        "\n",
        "**5.Content Rating**\n",
        "\n",
        "Content having Everyone only has most installs, while unrated and Adults only 18+ have less installs.\n",
        "\n",
        "**6.Reviews**\n",
        "\n",
        "Number of installs is positively correlated with reviews with correlation 0.64.\n",
        "Sentiment Analysis\n",
        "\n",
        "**7.Sentiment**\n",
        "\n",
        "Most of the reviews are of Positive Sentiment, while Negative and Neutral have low number of reviews.\n",
        "\n",
        "**8.Sentiment Polarity / Sentiment Subjectivity**\n",
        "\n",
        "Collection of reviews shows a wide range of subjectivity and most of the reviews fall in [-0.50,0.75] polarity scale implying that the extremely negative or positive sentiments are significantly low.\n",
        "Most of the reviews show a mid-range of negative and positive sentiments.\n",
        "\n",
        "Sentiment subjectivity is not always proportional to sentiment polarity but in maximum number of case, shows a proportional behavior, when variance is too high or low.\n",
        "\n",
        "Sentiment Polarity is not highly correlated with Sentiment Subjectivity."
      ],
      "metadata": {
        "id": "pJHo2lDSXLA6"
      }
    },
    {
      "cell_type": "markdown",
      "source": [
        "# **Challenges & Future Work**\n",
        "1. Our major challenge was data cleaning.\n",
        "2. 13.60% of reviews were NaN values, and even after merging both the dataframes, we could not infer much in order to fill them. Thus we had to drop them.\n",
        "3. The merged data frame of both play store and user reviews, had only 816 common apps. This is just 10% of the cleaned data, we could have given more valuable analysis, if we had atleast 70% - 80% of the data available in the merged dataframes.\n",
        "4. User Reviews had 42% of NaN values, which could have been used for developing an understanding of the category wise sentiments, which would help us to fill 13.60% NaN values of the Reviews column.\n",
        "5. There is so much more which can be explored. Like we have current version, android version available which can be explored in detail and we can come out with more analysis where we can tell how does these things effect and needs to be kept in mind while developing app for the users.\n",
        "6. We can explore the correlation between the size of the app and the version of Android on the number of installs.\n",
        "7. Machine learning can help us to deploy more insights by developing models which can help us interpret even more better. We have left this as future work as this is something where we can work on."
      ],
      "metadata": {
        "id": "YGneTeMHXNkp"
      }
    }
  ]
}